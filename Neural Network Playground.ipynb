{
 "cells": [
  {
   "cell_type": "code",
   "execution_count": 1,
   "metadata": {
    "collapsed": true
   },
   "outputs": [],
   "source": [
    "import multiprocessing as mp\n",
    "import numpy as np\n",
    "import graphlab as gl"
   ]
  },
  {
   "cell_type": "code",
   "execution_count": 5,
   "metadata": {
    "collapsed": false
   },
   "outputs": [
    {
     "data": {
      "text/plain": [
       "5.0"
      ]
     },
     "execution_count": 5,
     "metadata": {},
     "output_type": "execute_result"
    }
   ],
   "source": [
    "a = np.array([4, 3])\n",
    "np.linalg.norm(a)"
   ]
  },
  {
   "cell_type": "code",
   "execution_count": 2,
   "metadata": {
    "collapsed": true
   },
   "outputs": [],
   "source": [
    "gl.canvas.set_target('ipynb')"
   ]
  },
  {
   "cell_type": "code",
   "execution_count": 5,
   "metadata": {
    "collapsed": false
   },
   "outputs": [
    {
     "data": {
      "text/html": [
       "<pre>Downloading https://static.turi.com/datasets/mnist/sframe/train/dir_archive.ini to /var/tmp/graphlab-UnicornKing/1211/f474e465-9c36-4636-be6d-2036b9778c31.ini</pre>"
      ],
      "text/plain": [
       "Downloading https://static.turi.com/datasets/mnist/sframe/train/dir_archive.ini to /var/tmp/graphlab-UnicornKing/1211/f474e465-9c36-4636-be6d-2036b9778c31.ini"
      ]
     },
     "metadata": {},
     "output_type": "display_data"
    },
    {
     "data": {
      "text/html": [
       "<pre>Downloading https://static.turi.com/datasets/mnist/sframe/train/objects.bin to /var/tmp/graphlab-UnicornKing/1211/49b62950-49b4-471f-9a34-cd739729e2fd.bin</pre>"
      ],
      "text/plain": [
       "Downloading https://static.turi.com/datasets/mnist/sframe/train/objects.bin to /var/tmp/graphlab-UnicornKing/1211/49b62950-49b4-471f-9a34-cd739729e2fd.bin"
      ]
     },
     "metadata": {},
     "output_type": "display_data"
    },
    {
     "data": {
      "text/html": [
       "<pre>Downloading https://static.turi.com/datasets/mnist/sframe/train/m_4558118e.frame_idx to /var/tmp/graphlab-UnicornKing/1211/2d1e875e-f138-4512-b12a-5871fd2b7636.frame_idx</pre>"
      ],
      "text/plain": [
       "Downloading https://static.turi.com/datasets/mnist/sframe/train/m_4558118e.frame_idx to /var/tmp/graphlab-UnicornKing/1211/2d1e875e-f138-4512-b12a-5871fd2b7636.frame_idx"
      ]
     },
     "metadata": {},
     "output_type": "display_data"
    },
    {
     "data": {
      "text/html": [
       "<pre>Downloading https://static.turi.com/datasets/mnist/sframe/train/m_4558118e.sidx to /var/tmp/graphlab-UnicornKing/1211/0abfaf23-9272-4ec1-b22b-c41157b63cd6.sidx</pre>"
      ],
      "text/plain": [
       "Downloading https://static.turi.com/datasets/mnist/sframe/train/m_4558118e.sidx to /var/tmp/graphlab-UnicornKing/1211/0abfaf23-9272-4ec1-b22b-c41157b63cd6.sidx"
      ]
     },
     "metadata": {},
     "output_type": "display_data"
    },
    {
     "data": {
      "text/html": [
       "<pre>Downloading https://static.turi.com/datasets/mnist/sframe/test/dir_archive.ini to /var/tmp/graphlab-UnicornKing/1211/8640bdda-ac10-4176-8e74-b0b0be654bba.ini</pre>"
      ],
      "text/plain": [
       "Downloading https://static.turi.com/datasets/mnist/sframe/test/dir_archive.ini to /var/tmp/graphlab-UnicornKing/1211/8640bdda-ac10-4176-8e74-b0b0be654bba.ini"
      ]
     },
     "metadata": {},
     "output_type": "display_data"
    },
    {
     "data": {
      "text/html": [
       "<pre>Downloading https://static.turi.com/datasets/mnist/sframe/test/objects.bin to /var/tmp/graphlab-UnicornKing/1211/9bf932de-b8ca-48f4-92a7-c2c042368954.bin</pre>"
      ],
      "text/plain": [
       "Downloading https://static.turi.com/datasets/mnist/sframe/test/objects.bin to /var/tmp/graphlab-UnicornKing/1211/9bf932de-b8ca-48f4-92a7-c2c042368954.bin"
      ]
     },
     "metadata": {},
     "output_type": "display_data"
    },
    {
     "data": {
      "text/html": [
       "<pre>Downloading https://static.turi.com/datasets/mnist/sframe/test/m_310c50b3.frame_idx to /var/tmp/graphlab-UnicornKing/1211/f2e2e816-c608-4ba7-8c41-47341c459d17.frame_idx</pre>"
      ],
      "text/plain": [
       "Downloading https://static.turi.com/datasets/mnist/sframe/test/m_310c50b3.frame_idx to /var/tmp/graphlab-UnicornKing/1211/f2e2e816-c608-4ba7-8c41-47341c459d17.frame_idx"
      ]
     },
     "metadata": {},
     "output_type": "display_data"
    },
    {
     "data": {
      "text/html": [
       "<pre>Downloading https://static.turi.com/datasets/mnist/sframe/test/m_310c50b3.sidx to /var/tmp/graphlab-UnicornKing/1211/43575c5f-af9d-4110-b638-dc20cedb1bdd.sidx</pre>"
      ],
      "text/plain": [
       "Downloading https://static.turi.com/datasets/mnist/sframe/test/m_310c50b3.sidx to /var/tmp/graphlab-UnicornKing/1211/43575c5f-af9d-4110-b638-dc20cedb1bdd.sidx"
      ]
     },
     "metadata": {},
     "output_type": "display_data"
    }
   ],
   "source": [
    "data = gl.SFrame('https://static.turi.com/datasets/mnist/sframe/train')\n",
    "test_data = gl.SFrame('https://static.turi.com/datasets/mnist/sframe/test')\n",
    "training_data, validation_data = data.random_split(0.8)"
   ]
  },
  {
   "cell_type": "code",
   "execution_count": 6,
   "metadata": {
    "collapsed": false
   },
   "outputs": [
    {
     "data": {
      "text/html": [
       "<pre>Downloading https://static.turi.com/datasets/mnist/sframe/train/m_4558118e.0000 to /var/tmp/graphlab-UnicornKing/1211/8407cf67-aed1-416e-90fe-117bd1db9527.0000</pre>"
      ],
      "text/plain": [
       "Downloading https://static.turi.com/datasets/mnist/sframe/train/m_4558118e.0000 to /var/tmp/graphlab-UnicornKing/1211/8407cf67-aed1-416e-90fe-117bd1db9527.0000"
      ]
     },
     "metadata": {},
     "output_type": "display_data"
    },
    {
     "data": {
      "text/html": [
       "<pre>Downloading https://static.turi.com/datasets/mnist/sframe/train/m_4558118e.0001 to /var/tmp/graphlab-UnicornKing/1211/e05f7541-67b6-4ae9-a9bc-ea467e88726e.0001</pre>"
      ],
      "text/plain": [
       "Downloading https://static.turi.com/datasets/mnist/sframe/train/m_4558118e.0001 to /var/tmp/graphlab-UnicornKing/1211/e05f7541-67b6-4ae9-a9bc-ea467e88726e.0001"
      ]
     },
     "metadata": {},
     "output_type": "display_data"
    },
    {
     "data": {
      "text/html": [
       "<pre>Downloading https://static.turi.com/datasets/mnist/sframe/train/m_4558118e.0002 to /var/tmp/graphlab-UnicornKing/1211/4f6da4d4-c941-4adf-b398-25fca68fe5c7.0002</pre>"
      ],
      "text/plain": [
       "Downloading https://static.turi.com/datasets/mnist/sframe/train/m_4558118e.0002 to /var/tmp/graphlab-UnicornKing/1211/4f6da4d4-c941-4adf-b398-25fca68fe5c7.0002"
      ]
     },
     "metadata": {},
     "output_type": "display_data"
    },
    {
     "data": {
      "text/html": [
       "<pre>Downloading https://static.turi.com/datasets/mnist/sframe/train/m_4558118e.0003 to /var/tmp/graphlab-UnicornKing/1211/8ddf3d59-f05e-448a-bb85-b477ae067803.0003</pre>"
      ],
      "text/plain": [
       "Downloading https://static.turi.com/datasets/mnist/sframe/train/m_4558118e.0003 to /var/tmp/graphlab-UnicornKing/1211/8ddf3d59-f05e-448a-bb85-b477ae067803.0003"
      ]
     },
     "metadata": {},
     "output_type": "display_data"
    },
    {
     "data": {
      "text/html": [
       "<pre>Downloading https://static.turi.com/datasets/mnist/sframe/train/m_4558118e.0004 to /var/tmp/graphlab-UnicornKing/1211/35627daa-bc6e-4203-915a-8050c9bdbeb9.0004</pre>"
      ],
      "text/plain": [
       "Downloading https://static.turi.com/datasets/mnist/sframe/train/m_4558118e.0004 to /var/tmp/graphlab-UnicornKing/1211/35627daa-bc6e-4203-915a-8050c9bdbeb9.0004"
      ]
     },
     "metadata": {},
     "output_type": "display_data"
    },
    {
     "data": {
      "text/html": [
       "<pre>Downloading https://static.turi.com/datasets/mnist/sframe/train/m_4558118e.0005 to /var/tmp/graphlab-UnicornKing/1211/44253349-b9c6-4c73-8bc4-fb24bd2f2716.0005</pre>"
      ],
      "text/plain": [
       "Downloading https://static.turi.com/datasets/mnist/sframe/train/m_4558118e.0005 to /var/tmp/graphlab-UnicornKing/1211/44253349-b9c6-4c73-8bc4-fb24bd2f2716.0005"
      ]
     },
     "metadata": {},
     "output_type": "display_data"
    },
    {
     "data": {
      "text/html": [
       "<pre>Downloading https://static.turi.com/datasets/mnist/sframe/train/m_4558118e.0006 to /var/tmp/graphlab-UnicornKing/1211/896820df-c141-47c8-9af7-bc40e055d971.0006</pre>"
      ],
      "text/plain": [
       "Downloading https://static.turi.com/datasets/mnist/sframe/train/m_4558118e.0006 to /var/tmp/graphlab-UnicornKing/1211/896820df-c141-47c8-9af7-bc40e055d971.0006"
      ]
     },
     "metadata": {},
     "output_type": "display_data"
    },
    {
     "data": {
      "text/html": [
       "<pre>Downloading https://static.turi.com/datasets/mnist/sframe/train/m_4558118e.0007 to /var/tmp/graphlab-UnicornKing/1211/48e9dde4-6cc1-4709-a978-fe67c6705d3c.0007</pre>"
      ],
      "text/plain": [
       "Downloading https://static.turi.com/datasets/mnist/sframe/train/m_4558118e.0007 to /var/tmp/graphlab-UnicornKing/1211/48e9dde4-6cc1-4709-a978-fe67c6705d3c.0007"
      ]
     },
     "metadata": {},
     "output_type": "display_data"
    },
    {
     "data": {
      "text/html": [
       "<pre>Downloading https://static.turi.com/datasets/mnist/sframe/test/m_310c50b3.0000 to /var/tmp/graphlab-UnicornKing/1211/91fd309f-6ac1-43c5-9189-92cd601ababe.0000</pre>"
      ],
      "text/plain": [
       "Downloading https://static.turi.com/datasets/mnist/sframe/test/m_310c50b3.0000 to /var/tmp/graphlab-UnicornKing/1211/91fd309f-6ac1-43c5-9189-92cd601ababe.0000"
      ]
     },
     "metadata": {},
     "output_type": "display_data"
    },
    {
     "data": {
      "text/html": [
       "<pre>Downloading https://static.turi.com/datasets/mnist/sframe/test/m_310c50b3.0001 to /var/tmp/graphlab-UnicornKing/1211/49b005f2-866a-4305-a975-a1b7e14947cf.0001</pre>"
      ],
      "text/plain": [
       "Downloading https://static.turi.com/datasets/mnist/sframe/test/m_310c50b3.0001 to /var/tmp/graphlab-UnicornKing/1211/49b005f2-866a-4305-a975-a1b7e14947cf.0001"
      ]
     },
     "metadata": {},
     "output_type": "display_data"
    },
    {
     "data": {
      "text/html": [
       "<pre>Downloading https://static.turi.com/datasets/mnist/sframe/test/m_310c50b3.0002 to /var/tmp/graphlab-UnicornKing/1211/5714962a-f39e-423f-b834-3235a326cc72.0002</pre>"
      ],
      "text/plain": [
       "Downloading https://static.turi.com/datasets/mnist/sframe/test/m_310c50b3.0002 to /var/tmp/graphlab-UnicornKing/1211/5714962a-f39e-423f-b834-3235a326cc72.0002"
      ]
     },
     "metadata": {},
     "output_type": "display_data"
    },
    {
     "data": {
      "text/html": [
       "<pre>Downloading https://static.turi.com/datasets/mnist/sframe/test/m_310c50b3.0003 to /var/tmp/graphlab-UnicornKing/1211/2875f284-31ac-4166-aff5-f0b963b23cdb.0003</pre>"
      ],
      "text/plain": [
       "Downloading https://static.turi.com/datasets/mnist/sframe/test/m_310c50b3.0003 to /var/tmp/graphlab-UnicornKing/1211/2875f284-31ac-4166-aff5-f0b963b23cdb.0003"
      ]
     },
     "metadata": {},
     "output_type": "display_data"
    },
    {
     "data": {
      "text/html": [
       "<pre>Downloading https://static.turi.com/datasets/mnist/sframe/test/m_310c50b3.0004 to /var/tmp/graphlab-UnicornKing/1211/87008a8c-6f3a-431f-868b-33d34c570750.0004</pre>"
      ],
      "text/plain": [
       "Downloading https://static.turi.com/datasets/mnist/sframe/test/m_310c50b3.0004 to /var/tmp/graphlab-UnicornKing/1211/87008a8c-6f3a-431f-868b-33d34c570750.0004"
      ]
     },
     "metadata": {},
     "output_type": "display_data"
    },
    {
     "data": {
      "text/html": [
       "<pre>Downloading https://static.turi.com/datasets/mnist/sframe/test/m_310c50b3.0005 to /var/tmp/graphlab-UnicornKing/1211/13754a1a-48b6-4d19-bff5-04752b967288.0005</pre>"
      ],
      "text/plain": [
       "Downloading https://static.turi.com/datasets/mnist/sframe/test/m_310c50b3.0005 to /var/tmp/graphlab-UnicornKing/1211/13754a1a-48b6-4d19-bff5-04752b967288.0005"
      ]
     },
     "metadata": {},
     "output_type": "display_data"
    },
    {
     "data": {
      "text/html": [
       "<pre>Downloading https://static.turi.com/datasets/mnist/sframe/test/m_310c50b3.0006 to /var/tmp/graphlab-UnicornKing/1211/649a03a6-2fd8-4751-a4a8-ab663cd16ac0.0006</pre>"
      ],
      "text/plain": [
       "Downloading https://static.turi.com/datasets/mnist/sframe/test/m_310c50b3.0006 to /var/tmp/graphlab-UnicornKing/1211/649a03a6-2fd8-4751-a4a8-ab663cd16ac0.0006"
      ]
     },
     "metadata": {},
     "output_type": "display_data"
    },
    {
     "data": {
      "text/html": [
       "<pre>Downloading https://static.turi.com/datasets/mnist/sframe/test/m_310c50b3.0007 to /var/tmp/graphlab-UnicornKing/1211/dafc58db-8877-46a0-8072-cff64206bcb6.0007</pre>"
      ],
      "text/plain": [
       "Downloading https://static.turi.com/datasets/mnist/sframe/test/m_310c50b3.0007 to /var/tmp/graphlab-UnicornKing/1211/dafc58db-8877-46a0-8072-cff64206bcb6.0007"
      ]
     },
     "metadata": {},
     "output_type": "display_data"
    }
   ],
   "source": [
    "def load_sets(train, validation, test):\n",
    "    train_x = np.array(map(lambda x: x.pixel_data.reshape(1,-1), train['image']))\n",
    "    train_y = train['label'].to_numpy()\n",
    "    validation_x = np.array(map(lambda x: x.pixel_data.reshape(1,-1), validation['image']))\n",
    "    validation_y = validation['label'].to_numpy()\n",
    "    test_x = np.array(map(lambda x: x.pixel_data.reshape(1,-1), test['image']))\n",
    "    test_y = test['label'].to_numpy()\n",
    "    return (train_x, train_y, validation_x, validation_y, test_x, test_y)\n",
    "\n",
    "train_x, train_y, validation_x, validation_y, test_x, test_y = load_sets(training_data, validation_data, test_data)\n",
    "\n",
    "train_x = train_x.reshape(train_x.shape[2], train_x.shape[0])\n",
    "test_x = test_x.reshape(test_x.shape[2], test_x.shape[0])\n",
    "validation_x = validation_x.reshape(validation_x.shape[2], validation_x.shape[0])\n",
    "\n",
    "train_y = train_y.reshape(1, train_y.shape[0])\n",
    "test_y = test_y.reshape(1, test_y.shape[0])\n",
    "validation_y = validation_y.reshape(1, validation_y.shape[0])"
   ]
  },
  {
   "cell_type": "code",
   "execution_count": 7,
   "metadata": {
    "collapsed": true
   },
   "outputs": [],
   "source": [
    "def normalize(X):\n",
    "    X_norms = np.linalg.norm(X, axis=1).reshape(X.shape[0],1)\n",
    "    X_normalized = X/X_norms\n",
    "    return X_normalized\n",
    "\n",
    "X_train_normalized = normalize(train_x)\n",
    "X_test_normalized = normalize(test_x)"
   ]
  },
  {
   "cell_type": "code",
   "execution_count": 9,
   "metadata": {
    "collapsed": true
   },
   "outputs": [],
   "source": [
    "def sigmoid(z):\n",
    "    return 1/(1+np.exp(-z))"
   ]
  },
  {
   "cell_type": "code",
   "execution_count": 8,
   "metadata": {
    "collapsed": false
   },
   "outputs": [
    {
     "ename": "IndentationError",
     "evalue": "expected an indented block (<ipython-input-8-febcce3b7147>, line 4)",
     "output_type": "error",
     "traceback": [
      "\u001b[0;36m  File \u001b[0;32m\"<ipython-input-8-febcce3b7147>\"\u001b[0;36m, line \u001b[0;32m4\u001b[0m\n\u001b[0;31m    class Layer:\u001b[0m\n\u001b[0m                ^\u001b[0m\n\u001b[0;31mIndentationError\u001b[0m\u001b[0;31m:\u001b[0m expected an indented block\n"
     ]
    }
   ],
   "source": [
    "class HiddenNeuron:\n",
    "    def __init__(self, w, b):\n",
    "        self.w = w\n",
    "        self.b = b\n",
    "        \n",
    "    def activate(X):\n",
    "        return np.tanh(np.dot(self.)+self.b).squeeze()\n",
    "    \n",
    "class OutputNeuron:\n",
    "    def __init__(self, w, b):\n",
    "        self.w = w\n",
    "        self.b = b\n",
    "        \n",
    "    def activate(X):\n",
    "        return n(np.dot(self.)+self.b).squeeze()\n",
    "        \n",
    "class Layer:\n",
    "    def __init__(self, W, b, learning_rate, is_output):\n",
    "        self.W = W\n",
    "        self.b = b\n",
    "        self.dW = None\n",
    "        self.db = None\n",
    "        self.A = None\n",
    "        self.Z = None\n",
    "        self.dZ = None\n",
    "        self.learning_rate = learning_rate\n",
    "        \n",
    "    def forward_propagate(X):\n",
    "        self.A = None\n",
    "        if self.prev is None:\n",
    "            self.A = X\n",
    "        else:\n",
    "            self.A = self.prev.propagate(X)\n",
    "        z = np.dot(self.W, self.A) + b\n",
    "        return sigmoid(z) if is_output else np.tanh(z) \n",
    "    \n",
    "    def back_propagate(Y = None, nextW = None, nextdZ = None):\n",
    "        dZ = None\n",
    "        if Y is None:\n",
    "            dZ = np.dot(nextW.T, nextdZ) * (1 - self.A**2)\n",
    "        else:\n",
    "            dZ = A - Y\n",
    "            \n",
    "        prevA = self.prev.A\n",
    "        \n",
    "        dW = np.dot(dZ, prevA.T)\n",
    "        db = np.sum(dZ, axis = 1, keepdims=True)\n",
    "        \n",
    "        self.W -= learning_rate*dW\n",
    "        self.b -= learning_rate*db\n",
    "        \n",
    "        self.prev.back_propagate(nextW=self.W, nextdZ=dZ)\n",
    "        \n",
    "class NeuralNetwork:\n",
    "    def __init__(dims = [], X, Y)\n",
    "        for dim in dims:\n",
    "            layer = Layer()\n",
    "            \n",
    "        "
   ]
  },
  {
   "cell_type": "code",
   "execution_count": null,
   "metadata": {
    "collapsed": true
   },
   "outputs": [],
   "source": []
  }
 ],
 "metadata": {
  "kernelspec": {
   "display_name": "Python 2",
   "language": "python",
   "name": "python2"
  },
  "language_info": {
   "codemirror_mode": {
    "name": "ipython",
    "version": 2
   },
   "file_extension": ".py",
   "mimetype": "text/x-python",
   "name": "python",
   "nbconvert_exporter": "python",
   "pygments_lexer": "ipython2",
   "version": "2.7.13"
  }
 },
 "nbformat": 4,
 "nbformat_minor": 2
}
