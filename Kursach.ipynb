{
 "cells": [
  {
   "cell_type": "code",
   "execution_count": 1,
   "metadata": {
    "collapsed": false
   },
   "outputs": [
    {
     "name": "stdout",
     "output_type": "stream",
     "text": [
      "This non-commercial license of GraphLab Create for academic use is assigned to ivanhahanov@icloud.com and will expire on July 15, 2018.\n"
     ]
    },
    {
     "name": "stderr",
     "output_type": "stream",
     "text": [
      "[INFO] graphlab.cython.cy_server: GraphLab Create v2.1 started. Logging: /tmp/graphlab_server_1514826567.log\n"
     ]
    }
   ],
   "source": [
    "import numpy as np\n",
    "import graphlab as gl\n",
    "import handythreadd40c\n",
    "import time\n",
    "import matplotlib.pyplot as plt"
   ]
  },
  {
   "cell_type": "code",
   "execution_count": 2,
   "metadata": {
    "collapsed": true
   },
   "outputs": [],
   "source": [
    "gl.canvas.set_target('ipynb')"
   ]
  },
  {
   "cell_type": "code",
   "execution_count": 3,
   "metadata": {
    "collapsed": false
   },
   "outputs": [
    {
     "data": {
      "text/html": [
       "<pre>Downloading https://static.turi.com/datasets/mnist/sframe/train/dir_archive.ini to /var/tmp/graphlab-UnicornKing/11060/c5a0bb50-339c-4968-8c2e-71f718b773ba.ini</pre>"
      ],
      "text/plain": [
       "Downloading https://static.turi.com/datasets/mnist/sframe/train/dir_archive.ini to /var/tmp/graphlab-UnicornKing/11060/c5a0bb50-339c-4968-8c2e-71f718b773ba.ini"
      ]
     },
     "metadata": {},
     "output_type": "display_data"
    },
    {
     "data": {
      "text/html": [
       "<pre>Downloading https://static.turi.com/datasets/mnist/sframe/train/objects.bin to /var/tmp/graphlab-UnicornKing/11060/a8640c8d-d19b-4778-9e91-cc1c2d461cf5.bin</pre>"
      ],
      "text/plain": [
       "Downloading https://static.turi.com/datasets/mnist/sframe/train/objects.bin to /var/tmp/graphlab-UnicornKing/11060/a8640c8d-d19b-4778-9e91-cc1c2d461cf5.bin"
      ]
     },
     "metadata": {},
     "output_type": "display_data"
    },
    {
     "data": {
      "text/html": [
       "<pre>Downloading https://static.turi.com/datasets/mnist/sframe/train/m_4558118e.frame_idx to /var/tmp/graphlab-UnicornKing/11060/c944f7c9-e7d0-4e4a-9a3f-9666ac2e55df.frame_idx</pre>"
      ],
      "text/plain": [
       "Downloading https://static.turi.com/datasets/mnist/sframe/train/m_4558118e.frame_idx to /var/tmp/graphlab-UnicornKing/11060/c944f7c9-e7d0-4e4a-9a3f-9666ac2e55df.frame_idx"
      ]
     },
     "metadata": {},
     "output_type": "display_data"
    },
    {
     "data": {
      "text/html": [
       "<pre>Downloading https://static.turi.com/datasets/mnist/sframe/train/m_4558118e.sidx to /var/tmp/graphlab-UnicornKing/11060/fd142efe-f452-4156-a219-086926f4aacb.sidx</pre>"
      ],
      "text/plain": [
       "Downloading https://static.turi.com/datasets/mnist/sframe/train/m_4558118e.sidx to /var/tmp/graphlab-UnicornKing/11060/fd142efe-f452-4156-a219-086926f4aacb.sidx"
      ]
     },
     "metadata": {},
     "output_type": "display_data"
    },
    {
     "data": {
      "text/html": [
       "<pre>Downloading https://static.turi.com/datasets/mnist/sframe/test/dir_archive.ini to /var/tmp/graphlab-UnicornKing/11060/52f79a76-7e98-4be1-b7b0-d039d1e3ee4f.ini</pre>"
      ],
      "text/plain": [
       "Downloading https://static.turi.com/datasets/mnist/sframe/test/dir_archive.ini to /var/tmp/graphlab-UnicornKing/11060/52f79a76-7e98-4be1-b7b0-d039d1e3ee4f.ini"
      ]
     },
     "metadata": {},
     "output_type": "display_data"
    },
    {
     "data": {
      "text/html": [
       "<pre>Downloading https://static.turi.com/datasets/mnist/sframe/test/objects.bin to /var/tmp/graphlab-UnicornKing/11060/e84d382d-cfbf-42ae-99d7-0638d0b51e3e.bin</pre>"
      ],
      "text/plain": [
       "Downloading https://static.turi.com/datasets/mnist/sframe/test/objects.bin to /var/tmp/graphlab-UnicornKing/11060/e84d382d-cfbf-42ae-99d7-0638d0b51e3e.bin"
      ]
     },
     "metadata": {},
     "output_type": "display_data"
    },
    {
     "data": {
      "text/html": [
       "<pre>Downloading https://static.turi.com/datasets/mnist/sframe/test/m_310c50b3.frame_idx to /var/tmp/graphlab-UnicornKing/11060/45ea2f6c-7595-4859-bb7e-bcb0d8419b81.frame_idx</pre>"
      ],
      "text/plain": [
       "Downloading https://static.turi.com/datasets/mnist/sframe/test/m_310c50b3.frame_idx to /var/tmp/graphlab-UnicornKing/11060/45ea2f6c-7595-4859-bb7e-bcb0d8419b81.frame_idx"
      ]
     },
     "metadata": {},
     "output_type": "display_data"
    },
    {
     "data": {
      "text/html": [
       "<pre>Downloading https://static.turi.com/datasets/mnist/sframe/test/m_310c50b3.sidx to /var/tmp/graphlab-UnicornKing/11060/15f027b6-b6a3-447e-a3cf-57f1bef7f725.sidx</pre>"
      ],
      "text/plain": [
       "Downloading https://static.turi.com/datasets/mnist/sframe/test/m_310c50b3.sidx to /var/tmp/graphlab-UnicornKing/11060/15f027b6-b6a3-447e-a3cf-57f1bef7f725.sidx"
      ]
     },
     "metadata": {},
     "output_type": "display_data"
    }
   ],
   "source": [
    "data = gl.SFrame('https://static.turi.com/datasets/mnist/sframe/train')\n",
    "test_data = gl.SFrame('https://static.turi.com/datasets/mnist/sframe/test')\n",
    "training_data, validation_data = data.random_split(0.8)"
   ]
  },
  {
   "cell_type": "code",
   "execution_count": 4,
   "metadata": {
    "collapsed": false
   },
   "outputs": [
    {
     "data": {
      "text/html": [
       "<pre>Downloading https://static.turi.com/datasets/mnist/sframe/train/m_4558118e.0000 to /var/tmp/graphlab-UnicornKing/11060/fccc5eb0-6ef7-47cc-bf76-29485c31cdec.0000</pre>"
      ],
      "text/plain": [
       "Downloading https://static.turi.com/datasets/mnist/sframe/train/m_4558118e.0000 to /var/tmp/graphlab-UnicornKing/11060/fccc5eb0-6ef7-47cc-bf76-29485c31cdec.0000"
      ]
     },
     "metadata": {},
     "output_type": "display_data"
    },
    {
     "data": {
      "text/html": [
       "<pre>Downloading https://static.turi.com/datasets/mnist/sframe/train/m_4558118e.0001 to /var/tmp/graphlab-UnicornKing/11060/75e0eb0e-ec41-41d1-bf3f-27af6f9a866a.0001</pre>"
      ],
      "text/plain": [
       "Downloading https://static.turi.com/datasets/mnist/sframe/train/m_4558118e.0001 to /var/tmp/graphlab-UnicornKing/11060/75e0eb0e-ec41-41d1-bf3f-27af6f9a866a.0001"
      ]
     },
     "metadata": {},
     "output_type": "display_data"
    },
    {
     "data": {
      "text/html": [
       "<pre>Downloading https://static.turi.com/datasets/mnist/sframe/train/m_4558118e.0002 to /var/tmp/graphlab-UnicornKing/11060/128673bf-dad2-4e53-b5b4-4e5d72f1501e.0002</pre>"
      ],
      "text/plain": [
       "Downloading https://static.turi.com/datasets/mnist/sframe/train/m_4558118e.0002 to /var/tmp/graphlab-UnicornKing/11060/128673bf-dad2-4e53-b5b4-4e5d72f1501e.0002"
      ]
     },
     "metadata": {},
     "output_type": "display_data"
    },
    {
     "data": {
      "text/html": [
       "<pre>Downloading https://static.turi.com/datasets/mnist/sframe/train/m_4558118e.0003 to /var/tmp/graphlab-UnicornKing/11060/b8d367fd-df71-4e1d-baf7-e1ae094da860.0003</pre>"
      ],
      "text/plain": [
       "Downloading https://static.turi.com/datasets/mnist/sframe/train/m_4558118e.0003 to /var/tmp/graphlab-UnicornKing/11060/b8d367fd-df71-4e1d-baf7-e1ae094da860.0003"
      ]
     },
     "metadata": {},
     "output_type": "display_data"
    },
    {
     "data": {
      "text/html": [
       "<pre>Downloading https://static.turi.com/datasets/mnist/sframe/train/m_4558118e.0004 to /var/tmp/graphlab-UnicornKing/11060/c8a90b98-cb4c-4fde-a4d3-68040f51714c.0004</pre>"
      ],
      "text/plain": [
       "Downloading https://static.turi.com/datasets/mnist/sframe/train/m_4558118e.0004 to /var/tmp/graphlab-UnicornKing/11060/c8a90b98-cb4c-4fde-a4d3-68040f51714c.0004"
      ]
     },
     "metadata": {},
     "output_type": "display_data"
    },
    {
     "data": {
      "text/html": [
       "<pre>Downloading https://static.turi.com/datasets/mnist/sframe/train/m_4558118e.0005 to /var/tmp/graphlab-UnicornKing/11060/8e2dfcfa-d85c-4f90-8e0d-7e3df78c5660.0005</pre>"
      ],
      "text/plain": [
       "Downloading https://static.turi.com/datasets/mnist/sframe/train/m_4558118e.0005 to /var/tmp/graphlab-UnicornKing/11060/8e2dfcfa-d85c-4f90-8e0d-7e3df78c5660.0005"
      ]
     },
     "metadata": {},
     "output_type": "display_data"
    },
    {
     "data": {
      "text/html": [
       "<pre>Downloading https://static.turi.com/datasets/mnist/sframe/train/m_4558118e.0006 to /var/tmp/graphlab-UnicornKing/11060/41c1c3da-8a76-491b-95da-08a0b121b7ff.0006</pre>"
      ],
      "text/plain": [
       "Downloading https://static.turi.com/datasets/mnist/sframe/train/m_4558118e.0006 to /var/tmp/graphlab-UnicornKing/11060/41c1c3da-8a76-491b-95da-08a0b121b7ff.0006"
      ]
     },
     "metadata": {},
     "output_type": "display_data"
    },
    {
     "data": {
      "text/html": [
       "<pre>Downloading https://static.turi.com/datasets/mnist/sframe/train/m_4558118e.0007 to /var/tmp/graphlab-UnicornKing/11060/f342bd95-d636-47bc-89bb-3e5231f36940.0007</pre>"
      ],
      "text/plain": [
       "Downloading https://static.turi.com/datasets/mnist/sframe/train/m_4558118e.0007 to /var/tmp/graphlab-UnicornKing/11060/f342bd95-d636-47bc-89bb-3e5231f36940.0007"
      ]
     },
     "metadata": {},
     "output_type": "display_data"
    },
    {
     "data": {
      "text/html": [
       "<pre>Downloading https://static.turi.com/datasets/mnist/sframe/test/m_310c50b3.0000 to /var/tmp/graphlab-UnicornKing/11060/7b92baa2-7122-4918-b718-79f21e1ca14f.0000</pre>"
      ],
      "text/plain": [
       "Downloading https://static.turi.com/datasets/mnist/sframe/test/m_310c50b3.0000 to /var/tmp/graphlab-UnicornKing/11060/7b92baa2-7122-4918-b718-79f21e1ca14f.0000"
      ]
     },
     "metadata": {},
     "output_type": "display_data"
    },
    {
     "data": {
      "text/html": [
       "<pre>Downloading https://static.turi.com/datasets/mnist/sframe/test/m_310c50b3.0001 to /var/tmp/graphlab-UnicornKing/11060/6d00d88f-f249-4d55-a922-63741535ef37.0001</pre>"
      ],
      "text/plain": [
       "Downloading https://static.turi.com/datasets/mnist/sframe/test/m_310c50b3.0001 to /var/tmp/graphlab-UnicornKing/11060/6d00d88f-f249-4d55-a922-63741535ef37.0001"
      ]
     },
     "metadata": {},
     "output_type": "display_data"
    },
    {
     "data": {
      "text/html": [
       "<pre>Downloading https://static.turi.com/datasets/mnist/sframe/test/m_310c50b3.0002 to /var/tmp/graphlab-UnicornKing/11060/e7d6cf6f-4a52-417f-abaa-36732fbc6dd2.0002</pre>"
      ],
      "text/plain": [
       "Downloading https://static.turi.com/datasets/mnist/sframe/test/m_310c50b3.0002 to /var/tmp/graphlab-UnicornKing/11060/e7d6cf6f-4a52-417f-abaa-36732fbc6dd2.0002"
      ]
     },
     "metadata": {},
     "output_type": "display_data"
    },
    {
     "data": {
      "text/html": [
       "<pre>Downloading https://static.turi.com/datasets/mnist/sframe/test/m_310c50b3.0003 to /var/tmp/graphlab-UnicornKing/11060/cce0c50c-7c0f-4277-888f-8bc82a2cc24f.0003</pre>"
      ],
      "text/plain": [
       "Downloading https://static.turi.com/datasets/mnist/sframe/test/m_310c50b3.0003 to /var/tmp/graphlab-UnicornKing/11060/cce0c50c-7c0f-4277-888f-8bc82a2cc24f.0003"
      ]
     },
     "metadata": {},
     "output_type": "display_data"
    },
    {
     "data": {
      "text/html": [
       "<pre>Downloading https://static.turi.com/datasets/mnist/sframe/test/m_310c50b3.0004 to /var/tmp/graphlab-UnicornKing/11060/aadfecdc-5bab-464f-9ae9-c1c6e7cfcaea.0004</pre>"
      ],
      "text/plain": [
       "Downloading https://static.turi.com/datasets/mnist/sframe/test/m_310c50b3.0004 to /var/tmp/graphlab-UnicornKing/11060/aadfecdc-5bab-464f-9ae9-c1c6e7cfcaea.0004"
      ]
     },
     "metadata": {},
     "output_type": "display_data"
    },
    {
     "data": {
      "text/html": [
       "<pre>Downloading https://static.turi.com/datasets/mnist/sframe/test/m_310c50b3.0005 to /var/tmp/graphlab-UnicornKing/11060/b4e15f77-1b51-4255-ab5e-e95448ccd074.0005</pre>"
      ],
      "text/plain": [
       "Downloading https://static.turi.com/datasets/mnist/sframe/test/m_310c50b3.0005 to /var/tmp/graphlab-UnicornKing/11060/b4e15f77-1b51-4255-ab5e-e95448ccd074.0005"
      ]
     },
     "metadata": {},
     "output_type": "display_data"
    },
    {
     "data": {
      "text/html": [
       "<pre>Downloading https://static.turi.com/datasets/mnist/sframe/test/m_310c50b3.0006 to /var/tmp/graphlab-UnicornKing/11060/18362275-fc53-4e6b-91a8-e8b4d60f3549.0006</pre>"
      ],
      "text/plain": [
       "Downloading https://static.turi.com/datasets/mnist/sframe/test/m_310c50b3.0006 to /var/tmp/graphlab-UnicornKing/11060/18362275-fc53-4e6b-91a8-e8b4d60f3549.0006"
      ]
     },
     "metadata": {},
     "output_type": "display_data"
    },
    {
     "data": {
      "text/html": [
       "<pre>Downloading https://static.turi.com/datasets/mnist/sframe/test/m_310c50b3.0007 to /var/tmp/graphlab-UnicornKing/11060/eb2e6393-5b02-4f6c-97f1-5fe8d1895eef.0007</pre>"
      ],
      "text/plain": [
       "Downloading https://static.turi.com/datasets/mnist/sframe/test/m_310c50b3.0007 to /var/tmp/graphlab-UnicornKing/11060/eb2e6393-5b02-4f6c-97f1-5fe8d1895eef.0007"
      ]
     },
     "metadata": {},
     "output_type": "display_data"
    }
   ],
   "source": [
    "def load_sets(train, validation, test):\n",
    "    train_x = np.array(map(lambda x: x.pixel_data.reshape(1,-1), train['image']))\n",
    "    train_y = train['label'].to_numpy()\n",
    "    validation_x = np.array(map(lambda x: x.pixel_data.reshape(1,-1), validation['image']))\n",
    "    validation_y = validation['label'].to_numpy()\n",
    "    test_x = np.array(map(lambda x: x.pixel_data.reshape(1,-1), test['image']))\n",
    "    test_y = test['label'].to_numpy()\n",
    "    return (train_x, train_y, validation_x, validation_y, test_x, test_y)\n",
    "\n",
    "train_x, train_y, validation_x, validation_y, test_x, test_y = load_sets(training_data, validation_data, test_data)\n",
    "\n",
    "train_x = train_x.reshape(train_x.shape[0], -1).T\n",
    "test_x = test_x.reshape(test_x.shape[0], -1).T\n",
    "validation_x = validation_x.reshape(validation_x.shape[0], -1).T\n",
    "\n",
    "train_y = np.array([train_y])\n",
    "test_y = np.array([test_y])\n",
    "validation_y = validation_y.T"
   ]
  },
  {
   "cell_type": "code",
   "execution_count": 9,
   "metadata": {
    "collapsed": false
   },
   "outputs": [
    {
     "data": {
      "application/javascript": [
       "$(\"head\").append($(\"<link/>\").attr({\n",
       "  rel:  \"stylesheet\",\n",
       "  type: \"text/css\",\n",
       "  href: \"//cdnjs.cloudflare.com/ajax/libs/font-awesome/4.1.0/css/font-awesome.min.css\"\n",
       "}));\n",
       "$(\"head\").append($(\"<link/>\").attr({\n",
       "  rel:  \"stylesheet\",\n",
       "  type: \"text/css\",\n",
       "  href: \"https://static.turi.com/products/graphlab-create/2.1/canvas/css/canvas.css\"\n",
       "}));\n",
       "\n",
       "            (function(){\n",
       "\n",
       "                var e = null;\n",
       "                if (typeof element == 'undefined') {\n",
       "                    var scripts = document.getElementsByTagName('script');\n",
       "                    var thisScriptTag = scripts[scripts.length-1];\n",
       "                    var parentDiv = thisScriptTag.parentNode;\n",
       "                    e = document.createElement('div');\n",
       "                    parentDiv.appendChild(e);\n",
       "                } else {\n",
       "                    e = element[0];\n",
       "                }\n",
       "\n",
       "                if (typeof requirejs !== 'undefined') {\n",
       "                    // disable load timeout; ipython_app.js is large and can take a while to load.\n",
       "                    requirejs.config({waitSeconds: 0});\n",
       "                }\n",
       "\n",
       "                require(['https://static.turi.com/products/graphlab-create/2.1/canvas/js/ipython_app.js'], function(IPythonApp){\n",
       "                    var app = new IPythonApp();\n",
       "                    app.attachView('sarray','Images', {\"ipython\": true, \"rows\": [{\"format\": \"jpeg\", \"value\": \"image/jpeg;base64,/9j/4AAQSkZJRgABAQAAAQABAAD/2wBDAAgGBgcGBQgHBwcJCQgKDBQNDAsLDBkSEw8UHRofHh0aHBwgJC4nICIsIxwcKDcpLDAxNDQ0Hyc5PTgyPC4zNDL/wAALCAAcABwBAREA/8QAHwAAAQUBAQEBAQEAAAAAAAAAAAECAwQFBgcICQoL/8QAtRAAAgEDAwIEAwUFBAQAAAF9AQIDAAQRBRIhMUEGE1FhByJxFDKBkaEII0KxwRVS0fAkM2JyggkKFhcYGRolJicoKSo0NTY3ODk6Q0RFRkdISUpTVFVWV1hZWmNkZWZnaGlqc3R1dnd4eXqDhIWGh4iJipKTlJWWl5iZmqKjpKWmp6ipqrKztLW2t7i5usLDxMXGx8jJytLT1NXW19jZ2uHi4+Tl5ufo6erx8vP09fb3+Pn6/9oACAEBAAA/APn+pLe3muriO3t4ZJppGCpHGpZmJ6AAck0kkMsMzwyxuksZKujKQykdQR2IplFesfBqfTrJ7+7sbeK+8XIpNjaXJKI0QGX8thn94Rkc44+prGvfjB4qllkbTzYaOJCxkGn2aIXYnJJZtzZP1ridQ1G81a/mvtQuZbm6mO6SaVtzMcY5P0AFWvDupW2j+IbHUL3T4dQtYJQ0trMAVkXoRg8fTPfFel6VF4E8KeKj4zsfEkdxp8Iaax0mNG+0iRgR5b7hwq5+8Tzgfj5Ncztc3Us7ABpXLkDoCTmoqKKKK//Z\\n\", \"height\": 28, \"channels\": 1, \"width\": 28, \"type\": \"image\", \"id\": 4633257808}, {\"format\": \"jpeg\", \"value\": \"image/jpeg;base64,/9j/4AAQSkZJRgABAQAAAQABAAD/2wBDAAgGBgcGBQgHBwcJCQgKDBQNDAsLDBkSEw8UHRofHh0aHBwgJC4nICIsIxwcKDcpLDAxNDQ0Hyc5PTgyPC4zNDL/wAALCAAcABwBAREA/8QAHwAAAQUBAQEBAQEAAAAAAAAAAAECAwQFBgcICQoL/8QAtRAAAgEDAwIEAwUFBAQAAAF9AQIDAAQRBRIhMUEGE1FhByJxFDKBkaEII0KxwRVS0fAkM2JyggkKFhcYGRolJicoKSo0NTY3ODk6Q0RFRkdISUpTVFVWV1hZWmNkZWZnaGlqc3R1dnd4eXqDhIWGh4iJipKTlJWWl5iZmqKjpKWmp6ipqrKztLW2t7i5usLDxMXGx8jJytLT1NXW19jZ2uHi4+Tl5ufo6erx8vP09fb3+Pn6/9oACAEBAAA/APn+tfS/Cuv63k6Zo19dKGVGaKBiqknAycYH41Frnh/VfDd+LHWLKSzuWjEojkxkqc4PH0P5Vm0V9AWI1T4p/wBmz6H4nutO0mygig1ew80xNBhSCyFRhg43jJ9Dnjged/EfxlYa/fmy0e2mSygba11c3LzzXW3OCWckheWIUHGWJ6muDor3P4QHWT8PLyLRLfzLiTXrZZXBHEJ2eZvHUptGCPRjjvXk3i+0tLDxlrVnYY+yQXs0cIVsgKHIAzWLRWxoXivXvDX2gaNqlxZi4XbKIzww9cHofccishmLMWYkknJJ70lf/9k=\\n\", \"height\": 28, \"channels\": 1, \"width\": 28, \"type\": \"image\", \"id\": 4633257872}, {\"format\": \"jpeg\", \"value\": \"image/jpeg;base64,/9j/4AAQSkZJRgABAQAAAQABAAD/2wBDAAgGBgcGBQgHBwcJCQgKDBQNDAsLDBkSEw8UHRofHh0aHBwgJC4nICIsIxwcKDcpLDAxNDQ0Hyc5PTgyPC4zNDL/wAALCAAcABwBAREA/8QAHwAAAQUBAQEBAQEAAAAAAAAAAAECAwQFBgcICQoL/8QAtRAAAgEDAwIEAwUFBAQAAAF9AQIDAAQRBRIhMUEGE1FhByJxFDKBkaEII0KxwRVS0fAkM2JyggkKFhcYGRolJicoKSo0NTY3ODk6Q0RFRkdISUpTVFVWV1hZWmNkZWZnaGlqc3R1dnd4eXqDhIWGh4iJipKTlJWWl5iZmqKjpKWmp6ipqrKztLW2t7i5usLDxMXGx8jJytLT1NXW19jZ2uHi4+Tl5ufo6erx8vP09fb3+Pn6/9oACAEBAAA/APn+itrxL4efw1eWllNcCS6ks4ri4iC4Nu7jcIzyckLtOePvVi0Vv+CtHi1zxdp9pdFRZLJ594zttC28fzyEnt8qmq/inWD4g8U6nqu0KtzOzoqjAVOij8AAKyKK7/wpZzWXwx8Wa9bPbm4k8vTsM6h44n5kIyQfmGFAHJ+b0rgKKKKKK//Z\\n\", \"height\": 28, \"channels\": 1, \"width\": 28, \"type\": \"image\", \"id\": 4633257936}, {\"format\": \"jpeg\", \"value\": \"image/jpeg;base64,/9j/4AAQSkZJRgABAQAAAQABAAD/2wBDAAgGBgcGBQgHBwcJCQgKDBQNDAsLDBkSEw8UHRofHh0aHBwgJC4nICIsIxwcKDcpLDAxNDQ0Hyc5PTgyPC4zNDL/wAALCAAcABwBAREA/8QAHwAAAQUBAQEBAQEAAAAAAAAAAAECAwQFBgcICQoL/8QAtRAAAgEDAwIEAwUFBAQAAAF9AQIDAAQRBRIhMUEGE1FhByJxFDKBkaEII0KxwRVS0fAkM2JyggkKFhcYGRolJicoKSo0NTY3ODk6Q0RFRkdISUpTVFVWV1hZWmNkZWZnaGlqc3R1dnd4eXqDhIWGh4iJipKTlJWWl5iZmqKjpKWmp6ipqrKztLW2t7i5usLDxMXGx8jJytLT1NXW19jZ2uHi4+Tl5ufo6erx8vP09fb3+Pn6/9oACAEBAAA/APn+tTRfD99rwv2swgSxtJLud5G2qqIM9fU8AD1NVodLvbjS7rUordns7V0jmlGMIz52g/XaaqUV7te/DjxTp/w9sfC2gaU0txqe281i7eREAI5SEFiDhcZPv9axvippE/gfwdoHhK08trGRnuru5RxuuLkcEEdlUEYz147ivIqK9m0jWtb8G+DD4y1/Vb671jUIzb6LaXdw7hFIw05UnpjGPXj1BrxyaWS4mkmmdpJZGLu7HJYk5JJ9aZRVy/1bUdVaJtR1C6vGiTy4zcTNIUX+6NxOB7VTor//2Q==\\n\", \"height\": 28, \"channels\": 1, \"width\": 28, \"type\": \"image\", \"id\": 4633257296}, {\"format\": \"jpeg\", \"value\": \"image/jpeg;base64,/9j/4AAQSkZJRgABAQAAAQABAAD/2wBDAAgGBgcGBQgHBwcJCQgKDBQNDAsLDBkSEw8UHRofHh0aHBwgJC4nICIsIxwcKDcpLDAxNDQ0Hyc5PTgyPC4zNDL/wAALCAAcABwBAREA/8QAHwAAAQUBAQEBAQEAAAAAAAAAAAECAwQFBgcICQoL/8QAtRAAAgEDAwIEAwUFBAQAAAF9AQIDAAQRBRIhMUEGE1FhByJxFDKBkaEII0KxwRVS0fAkM2JyggkKFhcYGRolJicoKSo0NTY3ODk6Q0RFRkdISUpTVFVWV1hZWmNkZWZnaGlqc3R1dnd4eXqDhIWGh4iJipKTlJWWl5iZmqKjpKWmp6ipqrKztLW2t7i5usLDxMXGx8jJytLT1NXW19jZ2uHi4+Tl5ufo6erx8vP09fb3+Pn6/9oACAEBAAA/APn+u7+HXgXTvFsWr3us6wml6dp8K7piygiR8hCd3G0Y56Z4AIrB8WeGZvCmtfYXuobyCWJbi2u4DlJ4m6OOT3BH1BrCoq3Y6XqGqSeXp9hdXb/3beFpD+QBrs/iTYvomm+EdCuUUX1ppXm3GBhlMsruEPuvP5+9cDRX1BZfEXwf4O8I2s+m6pYyWkdoqw6XZoBPLcEfM0hPKjpyQO/J4FeP+PfFemeOND0zW5ysHiaOR7a7gjjISWLJaNwc8Yzt7k89gM+f0UUUV//Z\\n\", \"height\": 28, \"channels\": 1, \"width\": 28, \"type\": \"image\", \"id\": 4633258000}, {\"format\": \"jpeg\", \"value\": \"image/jpeg;base64,/9j/4AAQSkZJRgABAQAAAQABAAD/2wBDAAgGBgcGBQgHBwcJCQgKDBQNDAsLDBkSEw8UHRofHh0aHBwgJC4nICIsIxwcKDcpLDAxNDQ0Hyc5PTgyPC4zNDL/wAALCAAcABwBAREA/8QAHwAAAQUBAQEBAQEAAAAAAAAAAAECAwQFBgcICQoL/8QAtRAAAgEDAwIEAwUFBAQAAAF9AQIDAAQRBRIhMUEGE1FhByJxFDKBkaEII0KxwRVS0fAkM2JyggkKFhcYGRolJicoKSo0NTY3ODk6Q0RFRkdISUpTVFVWV1hZWmNkZWZnaGlqc3R1dnd4eXqDhIWGh4iJipKTlJWWl5iZmqKjpKWmp6ipqrKztLW2t7i5usLDxMXGx8jJytLT1NXW19jZ2uHi4+Tl5ufo6erx8vP09fb3+Pn6/9oACAEBAAA/APn+pjaXItBdm3lFsX2CbYdm7k43dM8Hj2NTyaPqcNobuXTrxLYDJmaBggGQPvYx1YfmPWqVdV4A8D3vjzxEmm2zeTbxjzLq5wD5KeuMjJJwAB6+gNex+J/i54Y8EafD4Z8JadbamtqAjMxzboQfXrI2QCSOPcnIBpfi3XtU+EHifX/Gd3ALK9t3g0yERJGXfay/Ljk5fswP3SelfOVXNP1bUdKMx06+ubQzxmKUwSlC6E5KkjqOK7b4W/D7/hLdUbUdUZbbw/p5D3c0rbBJ1IRWIx1HzegPqRUfxP8AH6eMdTgtdLSS30KwQR2kBBUHAxuK7iOnA4BAOK4GiujHjbVo/BA8JW4t7fTWmM07QxlZLhiQf3jZ5AwOw4UZziucor//2Q==\\n\", \"height\": 28, \"channels\": 1, \"width\": 28, \"type\": \"image\", \"id\": 4633258128}, {\"format\": \"jpeg\", \"value\": \"image/jpeg;base64,/9j/4AAQSkZJRgABAQAAAQABAAD/2wBDAAgGBgcGBQgHBwcJCQgKDBQNDAsLDBkSEw8UHRofHh0aHBwgJC4nICIsIxwcKDcpLDAxNDQ0Hyc5PTgyPC4zNDL/wAALCAAcABwBAREA/8QAHwAAAQUBAQEBAQEAAAAAAAAAAAECAwQFBgcICQoL/8QAtRAAAgEDAwIEAwUFBAQAAAF9AQIDAAQRBRIhMUEGE1FhByJxFDKBkaEII0KxwRVS0fAkM2JyggkKFhcYGRolJicoKSo0NTY3ODk6Q0RFRkdISUpTVFVWV1hZWmNkZWZnaGlqc3R1dnd4eXqDhIWGh4iJipKTlJWWl5iZmqKjpKWmp6ipqrKztLW2t7i5usLDxMXGx8jJytLT1NXW19jZ2uHi4+Tl5ufo6erx8vP09fb3+Pn6/9oACAEBAAA/APn+pbe2nu51gtoZJpn+7HGpZm+gFI9vNGGLwyKEbYxKkbW9D71HWhomi3/iHWLfStMgM93cNtRAcfUk9gByTXtyan4b+BuiyWdr5Gq+M5gn2pTu2wgjON2OFHpwxyCeMYfY/EK4+Ivw18cRa1ZWdv8AYrQTRG3jJyxB25DE87lHPbPtmvn6vUfhj4i0fw34U8TTHUYbPxHcxiCxeUMNgIPzBgCBgnP/AAEVzdr4OS+vXa98XaBBETua4kvC5cdchQN2fZgDW/4m8R+GdB8FSeDfB9xNfJdzCbUdRmi2+bjBVUB5wCPTjHU5NeZ0UUUV/9k=\\n\", \"height\": 28, \"channels\": 1, \"width\": 28, \"type\": \"image\", \"id\": 4633258192}, {\"format\": \"jpeg\", \"value\": \"image/jpeg;base64,/9j/4AAQSkZJRgABAQAAAQABAAD/2wBDAAgGBgcGBQgHBwcJCQgKDBQNDAsLDBkSEw8UHRofHh0aHBwgJC4nICIsIxwcKDcpLDAxNDQ0Hyc5PTgyPC4zNDL/wAALCAAcABwBAREA/8QAHwAAAQUBAQEBAQEAAAAAAAAAAAECAwQFBgcICQoL/8QAtRAAAgEDAwIEAwUFBAQAAAF9AQIDAAQRBRIhMUEGE1FhByJxFDKBkaEII0KxwRVS0fAkM2JyggkKFhcYGRolJicoKSo0NTY3ODk6Q0RFRkdISUpTVFVWV1hZWmNkZWZnaGlqc3R1dnd4eXqDhIWGh4iJipKTlJWWl5iZmqKjpKWmp6ipqrKztLW2t7i5usLDxMXGx8jJytLT1NXW19jZ2uHi4+Tl5ufo6erx8vP09fb3+Pn6/9oACAEBAAA/APn+nOjxttdWVvRhg02iuj8Ea1o3h/xCNS1vSn1OKGImCAMABNkbWbPUAZ/HB7V6d4S8Y+J/ib46EF7pdnceH3BW+tjbKYooscEufm3ZAxz17Y6eReI4NNtvEupQaNKZdNjuHW2kLbtyA8HPce9ZdFer+E/i1pHh3wOPDdx4VNwkqut1NFd+UbjcT94hc9Djr0FZkHjvwbYsy2vw3sZI8AA3d68rH65GPyrgbuWKe8nmhgW3ikkZkhViwjUnIUE8nA45qGiiiv/Z\\n\", \"height\": 28, \"channels\": 1, \"width\": 28, \"type\": \"image\", \"id\": 4633258256}, {\"format\": \"jpeg\", \"value\": \"image/jpeg;base64,/9j/4AAQSkZJRgABAQAAAQABAAD/2wBDAAgGBgcGBQgHBwcJCQgKDBQNDAsLDBkSEw8UHRofHh0aHBwgJC4nICIsIxwcKDcpLDAxNDQ0Hyc5PTgyPC4zNDL/wAALCAAcABwBAREA/8QAHwAAAQUBAQEBAQEAAAAAAAAAAAECAwQFBgcICQoL/8QAtRAAAgEDAwIEAwUFBAQAAAF9AQIDAAQRBRIhMUEGE1FhByJxFDKBkaEII0KxwRVS0fAkM2JyggkKFhcYGRolJicoKSo0NTY3ODk6Q0RFRkdISUpTVFVWV1hZWmNkZWZnaGlqc3R1dnd4eXqDhIWGh4iJipKTlJWWl5iZmqKjpKWmp6ipqrKztLW2t7i5usLDxMXGx8jJytLT1NXW19jZ2uHi4+Tl5ufo6erx8vP09fb3+Pn6/9oACAEBAAA/APn+iiiiu/j8N23hfwJp3jF7iefVLuXNlHFAkttBg4/fF1ILYzhfXHoagj+KmuPF5Wo2Gh6pHkkLe6ZE2MnPG0L6VyWp3w1PUZbwWlraeZj9xax7I1wAPlXJxnGfqTTtJbTU1SA6vHcyWGSJhbMFkAIIyueMg4OD1xjiu/0vxR4R8KaLq9ppd5ruqHULV4fsd3BHHbBmGAzjcSSPUeleZ0UUUUV//9k=\\n\", \"height\": 28, \"channels\": 1, \"width\": 28, \"type\": \"image\", \"id\": 4633258320}, {\"format\": \"jpeg\", \"value\": \"image/jpeg;base64,/9j/4AAQSkZJRgABAQAAAQABAAD/2wBDAAgGBgcGBQgHBwcJCQgKDBQNDAsLDBkSEw8UHRofHh0aHBwgJC4nICIsIxwcKDcpLDAxNDQ0Hyc5PTgyPC4zNDL/wAALCAAcABwBAREA/8QAHwAAAQUBAQEBAQEAAAAAAAAAAAECAwQFBgcICQoL/8QAtRAAAgEDAwIEAwUFBAQAAAF9AQIDAAQRBRIhMUEGE1FhByJxFDKBkaEII0KxwRVS0fAkM2JyggkKFhcYGRolJicoKSo0NTY3ODk6Q0RFRkdISUpTVFVWV1hZWmNkZWZnaGlqc3R1dnd4eXqDhIWGh4iJipKTlJWWl5iZmqKjpKWmp6ipqrKztLW2t7i5usLDxMXGx8jJytLT1NXW19jZ2uHi4+Tl5ufo6erx8vP09fb3+Pn6/9oACAEBAAA/APn+tzQPB3iHxQsjaLpVxeJGdrugAVT6EkgZ5pfEvg3X/B81vFr1h9ke4UtEPNSTcBweUY+orCorofB2m6zr+v2uh6Vc3MIu5QJfKkKqqjJZm5A4UMf0rW+KfiBNa8XNa2m8aZpca2VmjZ+4nBbn1P6YriKK9g8Ga3d/Dz4O6n4htnUX+sXq2tiGjBCbAdznPUY3Y6jIHrXnHiLxZrniu4in1u/e7khXbGSiqFHGeFA9BWNRWpeeI9W1DRLHRrq9eTTrAsbaDaoCFjk8gZPfqTisuiv/2Q==\\n\", \"height\": 28, \"channels\": 1, \"width\": 28, \"type\": \"image\", \"id\": 4633258384}, {\"format\": \"jpeg\", \"value\": \"image/jpeg;base64,/9j/4AAQSkZJRgABAQAAAQABAAD/2wBDAAgGBgcGBQgHBwcJCQgKDBQNDAsLDBkSEw8UHRofHh0aHBwgJC4nICIsIxwcKDcpLDAxNDQ0Hyc5PTgyPC4zNDL/wAALCAAcABwBAREA/8QAHwAAAQUBAQEBAQEAAAAAAAAAAAECAwQFBgcICQoL/8QAtRAAAgEDAwIEAwUFBAQAAAF9AQIDAAQRBRIhMUEGE1FhByJxFDKBkaEII0KxwRVS0fAkM2JyggkKFhcYGRolJicoKSo0NTY3ODk6Q0RFRkdISUpTVFVWV1hZWmNkZWZnaGlqc3R1dnd4eXqDhIWGh4iJipKTlJWWl5iZmqKjpKWmp6ipqrKztLW2t7i5usLDxMXGx8jJytLT1NXW19jZ2uHi4+Tl5ufo6erx8vP09fb3+Pn6/9oACAEBAAA/APn+lAJIA6mtDXdGuvD2t3Wk3pjNzbNsk8skrnAPBIHrWdRXqvi3wVr2pv4WTR9Cur23t9ItYWurdN0Urnc5Icdvmxk+lZfxn0i5034lapPMIxFeSCaHEyOxG1ckqDlec43AZxxnGa8+ord0bxHrVrc2VnFrd9b2YnTMQuXESjcOSoOMVufGIMvxY14MFB8yM/L6eUmK4aiipbm6uL24a4up5Z5mxuklcsxwMDJPPQAfhUVf/9k=\\n\", \"height\": 28, \"channels\": 1, \"width\": 28, \"type\": \"image\", \"id\": 4633258448}, {\"format\": \"jpeg\", \"value\": \"image/jpeg;base64,/9j/4AAQSkZJRgABAQAAAQABAAD/2wBDAAgGBgcGBQgHBwcJCQgKDBQNDAsLDBkSEw8UHRofHh0aHBwgJC4nICIsIxwcKDcpLDAxNDQ0Hyc5PTgyPC4zNDL/wAALCAAcABwBAREA/8QAHwAAAQUBAQEBAQEAAAAAAAAAAAECAwQFBgcICQoL/8QAtRAAAgEDAwIEAwUFBAQAAAF9AQIDAAQRBRIhMUEGE1FhByJxFDKBkaEII0KxwRVS0fAkM2JyggkKFhcYGRolJicoKSo0NTY3ODk6Q0RFRkdISUpTVFVWV1hZWmNkZWZnaGlqc3R1dnd4eXqDhIWGh4iJipKTlJWWl5iZmqKjpKWmp6ipqrKztLW2t7i5usLDxMXGx8jJytLT1NXW19jZ2uHi4+Tl5ufo6erx8vP09fb3+Pn6/9oACAEBAAA/APn+tbw14evvFXiC10bTvL+03JIVpCQigAkliASAAPSqWoWUumaldWFxt862meGTacjcpIOD6ZFVqK9K+BETv8UrSRR8kNvM8hz91dhXP5kfnXD+IrtL/wATateRcR3F5NKvPZnJH86zaK9W+Gc3/CPfDzxt4mZBv8hLG3foQ75Bwe33kP4CvKaKKnW9uksnsluZltHcSPAJCEZh0Yr0J96gor//2Q==\\n\", \"height\": 28, \"channels\": 1, \"width\": 28, \"type\": \"image\", \"id\": 4633258512}, {\"format\": \"jpeg\", \"value\": \"image/jpeg;base64,/9j/4AAQSkZJRgABAQAAAQABAAD/2wBDAAgGBgcGBQgHBwcJCQgKDBQNDAsLDBkSEw8UHRofHh0aHBwgJC4nICIsIxwcKDcpLDAxNDQ0Hyc5PTgyPC4zNDL/wAALCAAcABwBAREA/8QAHwAAAQUBAQEBAQEAAAAAAAAAAAECAwQFBgcICQoL/8QAtRAAAgEDAwIEAwUFBAQAAAF9AQIDAAQRBRIhMUEGE1FhByJxFDKBkaEII0KxwRVS0fAkM2JyggkKFhcYGRolJicoKSo0NTY3ODk6Q0RFRkdISUpTVFVWV1hZWmNkZWZnaGlqc3R1dnd4eXqDhIWGh4iJipKTlJWWl5iZmqKjpKWmp6ipqrKztLW2t7i5usLDxMXGx8jJytLT1NXW19jZ2uHi4+Tl5ufo6erx8vP09fb3+Pn6/9oACAEBAAA/APn+tjQfC2ueJ53i0bTJ7sp991ACJ/vOcKv4mn+IvCOueFHtl1qx+zfaVLQsJUkVwDg4ZGI49KxKK9m02fwh4l8F6D4Wg8Q39hNtQT6Za2ZL3V0zYLM5+VhkjAzwB7YHL/FKHTdD1mLwpodzNJp+mqGlSUlsXLACQgnnkBMgYAOcCuBor0r4SWkOlzat45vone00C3LRIOPNncFVXP4/hkGvPtQvp9U1K5v7py9xcytLIxOcsxyf51WorUi8R6vb+HZtAhvpI9Lnm8+W3QAB3wBycZI4HGcZAOM1l0V//9k=\\n\", \"height\": 28, \"channels\": 1, \"width\": 28, \"type\": \"image\", \"id\": 4633258576}, {\"format\": \"jpeg\", \"value\": \"image/jpeg;base64,/9j/4AAQSkZJRgABAQAAAQABAAD/2wBDAAgGBgcGBQgHBwcJCQgKDBQNDAsLDBkSEw8UHRofHh0aHBwgJC4nICIsIxwcKDcpLDAxNDQ0Hyc5PTgyPC4zNDL/wAALCAAcABwBAREA/8QAHwAAAQUBAQEBAQEAAAAAAAAAAAECAwQFBgcICQoL/8QAtRAAAgEDAwIEAwUFBAQAAAF9AQIDAAQRBRIhMUEGE1FhByJxFDKBkaEII0KxwRVS0fAkM2JyggkKFhcYGRolJicoKSo0NTY3ODk6Q0RFRkdISUpTVFVWV1hZWmNkZWZnaGlqc3R1dnd4eXqDhIWGh4iJipKTlJWWl5iZmqKjpKWmp6ipqrKztLW2t7i5usLDxMXGx8jJytLT1NXW19jZ2uHi4+Tl5ufo6erx8vP09fb3+Pn6/9oACAEBAAA/APn+uj8H+HbbXr29l1G4kt9L061e7vJIgC+xeAq543MxAHpXOtjcdoIXPAJzSUV33hyFm+EfikW8Ekl1c39lbgxrliCzEL9CfzJFcdq+kX2hanLpupW5t7yEKZIiwYruUMM4JGcEcduh5qlRXo3wd8V2vhrxLcpqssQ0me3aaWOXGDLD+8iZc/xgqQvPJb1xXIeKLuxv/E1/eadcXtxbXEnmiW9VRM7MAXLBePvFunbFZFFFFFf/2Q==\\n\", \"height\": 28, \"channels\": 1, \"width\": 28, \"type\": \"image\", \"id\": 4633258640}, {\"format\": \"jpeg\", \"value\": \"image/jpeg;base64,/9j/4AAQSkZJRgABAQAAAQABAAD/2wBDAAgGBgcGBQgHBwcJCQgKDBQNDAsLDBkSEw8UHRofHh0aHBwgJC4nICIsIxwcKDcpLDAxNDQ0Hyc5PTgyPC4zNDL/wAALCAAcABwBAREA/8QAHwAAAQUBAQEBAQEAAAAAAAAAAAECAwQFBgcICQoL/8QAtRAAAgEDAwIEAwUFBAQAAAF9AQIDAAQRBRIhMUEGE1FhByJxFDKBkaEII0KxwRVS0fAkM2JyggkKFhcYGRolJicoKSo0NTY3ODk6Q0RFRkdISUpTVFVWV1hZWmNkZWZnaGlqc3R1dnd4eXqDhIWGh4iJipKTlJWWl5iZmqKjpKWmp6ipqrKztLW2t7i5usLDxMXGx8jJytLT1NXW19jZ2uHi4+Tl5ufo6erx8vP09fb3+Pn6/9oACAEBAAA/APn+th/DOop4Si8TFYzp0l2bMEP84kC7unpjPPtSa54X1rw2LQ6xp8tn9ri82HzMfMv4dCOMg4Iz0rIor6D17Qbq9+D3gvw3oWlS3n9oyQzS3cMbvHbMQNzsRnZkyHk4GA1SftIQXI0fQGSEtaQyyK87OCQ5Vdq8/MchWOfbntXzxRXtn7PGo67L4gudNhum/sSGFpp4WAI8xsBSO4JwenHH0rgvid4ibxL4/wBVu1dzbRzGGBWPAVMLkDtnbn8a5Cipra7ubKbzrW4lglwV3xOVbB4IyKhor//Z\\n\", \"height\": 28, \"channels\": 1, \"width\": 28, \"type\": \"image\", \"id\": 4633258704}, {\"format\": \"jpeg\", \"value\": \"image/jpeg;base64,/9j/4AAQSkZJRgABAQAAAQABAAD/2wBDAAgGBgcGBQgHBwcJCQgKDBQNDAsLDBkSEw8UHRofHh0aHBwgJC4nICIsIxwcKDcpLDAxNDQ0Hyc5PTgyPC4zNDL/wAALCAAcABwBAREA/8QAHwAAAQUBAQEBAQEAAAAAAAAAAAECAwQFBgcICQoL/8QAtRAAAgEDAwIEAwUFBAQAAAF9AQIDAAQRBRIhMUEGE1FhByJxFDKBkaEII0KxwRVS0fAkM2JyggkKFhcYGRolJicoKSo0NTY3ODk6Q0RFRkdISUpTVFVWV1hZWmNkZWZnaGlqc3R1dnd4eXqDhIWGh4iJipKTlJWWl5iZmqKjpKWmp6ipqrKztLW2t7i5usLDxMXGx8jJytLT1NXW19jZ2uHi4+Tl5ufo6erx8vP09fb3+Pn6/9oACAEBAAA/APn+tHQtEvfEeuWekaeqtdXUmxNxwo7kk+gAJP0qg6lHZD1U4OKbRXZ/C9Z4/GX9oQ5A06xurx2AyVCwvg/mVrjCSSSTknqaKK6/wiDZ+GPF+rbyoXT0sVA/iaeVeP8AvlHrkKKKlW6uEtZLVZ5Vt5HV3iDkIzLkKSOhI3HB7ZPrUVFf/9k=\\n\", \"height\": 28, \"channels\": 1, \"width\": 28, \"type\": \"image\", \"id\": 4633258064}, {\"format\": \"jpeg\", \"value\": \"image/jpeg;base64,/9j/4AAQSkZJRgABAQAAAQABAAD/2wBDAAgGBgcGBQgHBwcJCQgKDBQNDAsLDBkSEw8UHRofHh0aHBwgJC4nICIsIxwcKDcpLDAxNDQ0Hyc5PTgyPC4zNDL/wAALCAAcABwBAREA/8QAHwAAAQUBAQEBAQEAAAAAAAAAAAECAwQFBgcICQoL/8QAtRAAAgEDAwIEAwUFBAQAAAF9AQIDAAQRBRIhMUEGE1FhByJxFDKBkaEII0KxwRVS0fAkM2JyggkKFhcYGRolJicoKSo0NTY3ODk6Q0RFRkdISUpTVFVWV1hZWmNkZWZnaGlqc3R1dnd4eXqDhIWGh4iJipKTlJWWl5iZmqKjpKWmp6ipqrKztLW2t7i5usLDxMXGx8jJytLT1NXW19jZ2uHi4+Tl5ufo6erx8vP09fb3+Pn6/9oACAEBAAA/APn+rmn6TqWrzeTpun3d7LjOy2haRvyUGq89vNazvBcQyQzRna8cilWU+hB5FR06Py/NTzd3l7hu29cd8e9e96jc3mtW9hYfDfxno2laQVjii00T/ZLoP3LEjc7Fs9DzxweTWd8T7zQtO8KLpGsJZ6j49aCCK7vYVJMYRtwJYj75X5T3IPPAFeJ0V6j4As4vB3ha8+ImpRwvKoa20WFzzJOcqXx3C8/k3oK80u7u4vrua7upnmuJnLySOclmPUmoaK3tX8XalrPh7SNDnS3isdKRlhSBCu8nqz8nLe4x1PrWDRX/2Q==\\n\", \"height\": 28, \"channels\": 1, \"width\": 28, \"type\": \"image\", \"id\": 4633258768}, {\"format\": \"jpeg\", \"value\": \"image/jpeg;base64,/9j/4AAQSkZJRgABAQAAAQABAAD/2wBDAAgGBgcGBQgHBwcJCQgKDBQNDAsLDBkSEw8UHRofHh0aHBwgJC4nICIsIxwcKDcpLDAxNDQ0Hyc5PTgyPC4zNDL/wAALCAAcABwBAREA/8QAHwAAAQUBAQEBAQEAAAAAAAAAAAECAwQFBgcICQoL/8QAtRAAAgEDAwIEAwUFBAQAAAF9AQIDAAQRBRIhMUEGE1FhByJxFDKBkaEII0KxwRVS0fAkM2JyggkKFhcYGRolJicoKSo0NTY3ODk6Q0RFRkdISUpTVFVWV1hZWmNkZWZnaGlqc3R1dnd4eXqDhIWGh4iJipKTlJWWl5iZmqKjpKWmp6ipqrKztLW2t7i5usLDxMXGx8jJytLT1NXW19jZ2uHi4+Tl5ufo6erx8vP09fb3+Pn6/9oACAEBAAA/APn+prW0ub66jtbO3luLiU7Y4oULu59AByaff6fe6XdtaahZ3FpcqAWhuImjcZ5GVIBqtRXq/h3w9ew6RoWn+HYmGo+IYGlvtYOQLWDzCpiRh9z7vzHqSQB1rE+MFzbSfEK4sbMH7NplvDYR5OTiNBn8iSPwrg6K734Y3d0ut+bd392ug6RG2p3VsszeUxjwUGzIBJfYBXFX97NqWo3V9cHM9zK80h9WYkn9TVeitKy1y80/RtT0q3KC31LyhOcHcRGxYAHPQk8+uBWbRX//2Q==\\n\", \"height\": 28, \"channels\": 1, \"width\": 28, \"type\": \"image\", \"id\": 4633258896}, {\"format\": \"jpeg\", \"value\": \"image/jpeg;base64,/9j/4AAQSkZJRgABAQAAAQABAAD/2wBDAAgGBgcGBQgHBwcJCQgKDBQNDAsLDBkSEw8UHRofHh0aHBwgJC4nICIsIxwcKDcpLDAxNDQ0Hyc5PTgyPC4zNDL/wAALCAAcABwBAREA/8QAHwAAAQUBAQEBAQEAAAAAAAAAAAECAwQFBgcICQoL/8QAtRAAAgEDAwIEAwUFBAQAAAF9AQIDAAQRBRIhMUEGE1FhByJxFDKBkaEII0KxwRVS0fAkM2JyggkKFhcYGRolJicoKSo0NTY3ODk6Q0RFRkdISUpTVFVWV1hZWmNkZWZnaGlqc3R1dnd4eXqDhIWGh4iJipKTlJWWl5iZmqKjpKWmp6ipqrKztLW2t7i5usLDxMXGx8jJytLT1NXW19jZ2uHi4+Tl5ufo6erx8vP09fb3+Pn6/9oACAEBAAA/APAY43mlSKNSzuwVVHUk9BXrEPwRjtGSDxD400bSr11ytruEj5PQEFl9+mfbNefeKvDV74R8RXWi35RpoCPnTO11IyGGR05rGpQSrBlJBByCO1ei/DrXvB9jqN9rvjZry+1WKSOWz3Bpd7DOWJzgsDt+8fTFWvizDp/iKKy+IGj3Fw9nqb/Zp4bhcPBMi8DjjBUdM9s9+PL6UEg5GOmORmva7T4CW19bwavH4qtotCkt45zOyBmX5cvk5CgA55zx3HHOR8TvEXhm28Nab4I8ISNPY2U5nubkHKyyYIHzfxnkknGOFx7eVUUUUV//2Q==\\n\", \"height\": 28, \"channels\": 1, \"width\": 28, \"type\": \"image\", \"id\": 4633258960}, {\"format\": \"jpeg\", \"value\": \"image/jpeg;base64,/9j/4AAQSkZJRgABAQAAAQABAAD/2wBDAAgGBgcGBQgHBwcJCQgKDBQNDAsLDBkSEw8UHRofHh0aHBwgJC4nICIsIxwcKDcpLDAxNDQ0Hyc5PTgyPC4zNDL/wAALCAAcABwBAREA/8QAHwAAAQUBAQEBAQEAAAAAAAAAAAECAwQFBgcICQoL/8QAtRAAAgEDAwIEAwUFBAQAAAF9AQIDAAQRBRIhMUEGE1FhByJxFDKBkaEII0KxwRVS0fAkM2JyggkKFhcYGRolJicoKSo0NTY3ODk6Q0RFRkdISUpTVFVWV1hZWmNkZWZnaGlqc3R1dnd4eXqDhIWGh4iJipKTlJWWl5iZmqKjpKWmp6ipqrKztLW2t7i5usLDxMXGx8jJytLT1NXW19jZ2uHi4+Tl5ufo6erx8vP09fb3+Pn6/9oACAEBAAA/APn+u3l8N6bYfB+HxBcp5mqajqPk2rB2HlRIG3ZHQ5I/ljvniKKK9V+KNo1p4M+HenW6nY2nGURJk5d9jEjvkk024+BmtWPhG81i+1G0hvbe2+1DTlBZygGW3NxtIGegYZ715ZRXtPgb4j+E5tG0PTvGUM0d3oU4ksL5Iy6hQeAwXJ447H7oPUVS8cfEHw4L/Vbrwot5dalq0DwXOo3hOIomIzHEhHAwMdOM8V5HRRRRX//Z\\n\", \"height\": 28, \"channels\": 1, \"width\": 28, \"type\": \"image\", \"id\": 4633259024}], \"selected_variable\": {\"name\": [\"<SArray>\"], \"dtype\": \"Image\", \"view_component\": \"Images\", \"view_file\": \"sarray\", \"descriptives\": {\"rows\": 48095}, \"type\": \"SArray\", \"view_components\": [\"Images\"]}}, e);\n",
       "                });\n",
       "            })();\n",
       "        "
      ]
     },
     "metadata": {},
     "output_type": "display_data"
    }
   ],
   "source": [
    "training_data['image'].show()"
   ]
  },
  {
   "cell_type": "code",
   "execution_count": 5,
   "metadata": {
    "collapsed": false
   },
   "outputs": [],
   "source": [
    "def normalize(X):\n",
    "    X_norms = np.linalg.norm(X, axis=1).reshape(X.shape[0],1)\n",
    "    X_normalized = X/X_norms\n",
    "    return X_normalized\n",
    "\n",
    "X_train_normalized = normalize(train_x)\n",
    "X_test_normalized = normalize(test_x)"
   ]
  },
  {
   "cell_type": "markdown",
   "metadata": {},
   "source": [
    "# My Model"
   ]
  },
  {
   "cell_type": "code",
   "execution_count": 6,
   "metadata": {
    "collapsed": false
   },
   "outputs": [],
   "source": [
    "def sigmoid(z):\n",
    "    res = 1./(1.+np.exp(-z))\n",
    "    return (res, z)\n",
    "\n",
    "def relu(z):\n",
    "    return (np.maximum(0, z), z)\n",
    "    \n",
    "    \n",
    "def sigmoid_backward(dA, cache):\n",
    "    Z = cache\n",
    "    A = sigmoid(Z)[0]\n",
    "    dx = dA*(A*(1-A))\n",
    "    return dx\n",
    "    \n",
    "\n",
    "def relu_backward(dA, cache):\n",
    "    z = cache\n",
    "    dz = np.array(dA, copy=True)\n",
    "    dz[z <= 0] = 0\n",
    "    return dz\n",
    "\n",
    "\n",
    "def initialize_parameters(layers_dims):\n",
    "    np.random.seed(3)\n",
    "    parameters = []\n",
    "    for i in range(1,len(layers_dims)):\n",
    "        layer_params = {}\n",
    "        layer_params['W'] = np.random.randn(layers_dims[i], layers_dims[i-1])*0.01\n",
    "        layer_params['b'] = np.zeros((layers_dims[i], 1))\n",
    "        parameters.append(layer_params)\n",
    "    return parameters\n",
    "\n",
    "\n",
    "def compute_cost(AL, Y):\n",
    "    m = Y.shape[1]\n",
    "    cost = -np.sum(np.multiply(Y, np.log(AL))+np.multiply((1-Y),np.log(1-AL)))/m\n",
    "    \n",
    "    cost = np.squeeze(cost) \n",
    "    assert(cost.shape == ())\n",
    "    \n",
    "    return cost\n",
    "\n",
    "\n",
    "def linear(cache):\n",
    "    A, W, b = cache\n",
    "    return np.dot(W, A) + b\n",
    "\n",
    "\n",
    "def linear_forward(A, W, b, threads=1):\n",
    "    n_n = W.shape[0]\n",
    "    Z = None\n",
    "    if threads > 1 and n_n > 1:\n",
    "        threshold = int(n_n/threads)\n",
    "        segments = []\n",
    "        for i in range(threads):\n",
    "            W_segment = W[i*threshold:(i+1)*threshold,:]\n",
    "            b_segment = b[i*threshold:(i+1)*threshold,:]\n",
    "            segments.append((A, W_segment, b_segment))\n",
    "            \n",
    "        segmentsZ = foreach(linear, segments, threads=threads, return_=True)\n",
    "        Z = segmentsZ[0]\n",
    "        for i in range(1, len(segmentsZ)):\n",
    "            Z = np.append(Z, segmentsZ[i], axis=0)\n",
    "    else:\n",
    "        Z = np.dot(W, A) + b\n",
    "    assert(Z.shape == (W.shape[0], A.shape[1]))\n",
    "    cache = (A, W, b)\n",
    "    return Z, cache\n",
    "\n",
    "\n",
    "def linear_activation_forward(A_prev, W, b, activation, threads=1):\n",
    "    if activation == \"sigmoid\":\n",
    "        Z, linear_cache = linear_forward(A_prev, W, b)\n",
    "        A, activation_cache = sigmoid(Z)\n",
    "        \n",
    "    elif activation == \"relu\":\n",
    "        Z, linear_cache = linear_forward(A_prev, W, b)\n",
    "        A, activation_cache = relu(Z)\n",
    "        \n",
    "    assert (A.shape == (W.shape[0], A_prev.shape[1]))\n",
    "    cache = (linear_cache, activation_cache)\n",
    "    return A, cache\n",
    "\n",
    "\n",
    "def forward_prop(parameters, X, threads=1):\n",
    "    \n",
    "    L = len(parameters)\n",
    "    A = X\n",
    "    caches = []\n",
    "    \n",
    "    for i in range(L-1):\n",
    "        W = parameters[i]['W']\n",
    "        b = parameters[i]['b']\n",
    "        A, cache = linear_activation_forward(A, W, b, 'relu', threads)\n",
    "        caches.append(cache)\n",
    "        \n",
    "    W = parameters[L-1]['W']\n",
    "    b = parameters[L-1]['b']\n",
    "    A, cache = linear_activation_forward(A, W, b, 'sigmoid', threads)\n",
    "    caches.append(cache)\n",
    "    \n",
    "    return A, caches    \n",
    "\n",
    "\n",
    "def linear_backward(dZ, cache):\n",
    "    A_prev, W, b = cache\n",
    "    m = A_prev.shape[1]\n",
    "    dW = np.dot(dZ, A_prev.T)/m\n",
    "    db = np.sum(dZ, axis=1, keepdims=True)/m\n",
    "    dA_prev = np.dot(W.T, dZ)\n",
    "    \n",
    "    assert (dA_prev.shape == A_prev.shape)\n",
    "    assert (dW.shape == W.shape)\n",
    "    assert (db.shape == b.shape)\n",
    "    \n",
    "    return dA_prev, dW, db\n",
    "\n",
    "\n",
    "def linear_activation_backward(dA, cache, activation):\n",
    "\n",
    "    linear_cache, activation_cache = cache\n",
    "    if activation == \"relu\":\n",
    "        dZ = relu_backward(dA, activation_cache)\n",
    "        dA_prev, dW, db = linear_backward(dZ, linear_cache)\n",
    "        \n",
    "    elif activation == \"sigmoid\":\n",
    "        dZ = sigmoid_backward(dA, activation_cache)\n",
    "        dA_prev, dW, db = linear_backward(dZ, linear_cache)\n",
    "    \n",
    "    return dA_prev, dW, db\n",
    "\n",
    "\n",
    "def backward_prop(dAL, caches):\n",
    "    L = len(caches)\n",
    "    dA = dAL\n",
    "    grads = []\n",
    "    dA, dW, db = linear_activation_backward(dA, caches[L-1], 'sigmoid')\n",
    "    layer_grads = {'dW': dW, 'db': db}\n",
    "    grads.append(layer_grads)\n",
    "    for i in reversed(range(0, L-1)):\n",
    "        dA, dW, db = linear_activation_backward(dA, caches[i], 'relu')\n",
    "        layer_grads = {'dW': dW, 'db': db}\n",
    "        grads.append(layer_grads)\n",
    "    grads.reverse()\n",
    "    return grads\n",
    "\n",
    "\n",
    "def update_parameters(parameters, grads, learning_rate):\n",
    "    for i in range(len(parameters)):\n",
    "        parameters[i]['W'] = parameters[i]['W'] - grads[i]['dW']*learning_rate\n",
    "        parameters[i]['b'] = parameters[i]['b'] - grads[i]['db']*learning_rate\n",
    "    return parameters\n",
    "\n",
    "\n",
    "def predict(parameters, X):\n",
    "    probs = forward_prop(parameters=parameters, X=X)[0]\n",
    "    return (probs > 0.5).astype(int)\n",
    "\n",
    " \n",
    "def L_layer_model(X_train, Y_train, X_test, Y_test, layers_dims, num_iterations=2000, learning_rate=0.005, threads = 1):\n",
    "    np.random.seed(1)\n",
    "    layers_dims.insert(0, X_train.shape[0])\n",
    "    parameters = initialize_parameters(layers_dims=layers_dims)\n",
    "    costs = []\n",
    "    iterations = []\n",
    "    for i in range(num_iterations):\n",
    "        AL, caches = forward_prop(parameters=parameters, X=X_train, threads=threads)\n",
    "        # Cost function. Inputs: \"A2, Y, parameters\". Outputs: \"cost\".\n",
    "        cost = compute_cost(AL=AL, Y=Y_train)\n",
    "        # Backpropagation. Inputs: \"parameters, cache, X, Y\". Outputs: \"grads\".\n",
    "        dAL = -(np.divide(Y_train, AL) - np.divide(1 - Y_train, 1 - AL))\n",
    "        grads = backward_prop(dAL, caches)\n",
    "        \n",
    "        # Gradient descent parameter update. Inputs: \"parameters, grads\". Outputs: \"parameters\".\n",
    "        parameters = update_parameters(grads=grads, learning_rate=learning_rate, parameters=parameters)\n",
    "        # Print the cost every 100 iterations\n",
    "        if i % 100 == 0:\n",
    "            iterations.append(i)\n",
    "            costs.append(cost)\n",
    "            print(\"Cost after iteration %i: %f\" %(i, cost))\n",
    "            \n",
    "    Y_prediction_test = predict(parameters,X=X_test)\n",
    "    Y_prediction_train = predict(parameters,X=X_train)\n",
    "    print(\"train accuracy: {} %\".format(100 - np.mean(np.abs(Y_prediction_train - Y_train)) * 100))\n",
    "    print(\"test accuracy: {} %\".format(100 - np.mean(np.abs(Y_prediction_test - Y_test)) * 100))\n",
    "    plt.plot(iterations, costs)\n",
    "    plt.show()\n",
    "    \n",
    "    return parameters\n",
    "    \n",
    "\n",
    "def multiclass_L_model(X_train, Y_train, X_test, Y_test, labels, layers_dims, num_iterations = 1000, \n",
    "                     learning_rate = 0.5, print_cost = False):\n",
    "    mc_model = {}\n",
    "    for label in labels:\n",
    "        label_Y_train = (Y_train == label).astype(int)\n",
    "        label_Y_test = (Y_test == label).astype(int)\n",
    "        print(\"Training model for label: \", label)\n",
    "        label_model = L_layer_model(X_train, label_Y_train, X_test, label_Y_test, layers_dims, learning_rate=learning_rate, num_iterations = num_iterations)\n",
    "        mc_model[label] = label_model\n",
    "    return mc_model"
   ]
  },
  {
   "cell_type": "code",
   "execution_count": 7,
   "metadata": {
    "collapsed": false
   },
   "outputs": [
    {
     "name": "stdout",
     "output_type": "stream",
     "text": [
      "Cost after iteration 0: 0.693150\n",
      "Cost after iteration 100: 0.341453\n",
      "Cost after iteration 200: 0.341411\n",
      "Cost after iteration 300: 0.341309\n",
      "Cost after iteration 400: 0.341038\n",
      "Cost after iteration 500: 0.340313\n",
      "Cost after iteration 600: 0.338407\n",
      "Cost after iteration 700: 0.333606\n",
      "Cost after iteration 800: 0.322329\n",
      "Cost after iteration 900: 0.299172\n",
      "Cost after iteration 1000: 0.286383\n",
      "Cost after iteration 1100: 0.268265\n",
      "Cost after iteration 1200: 0.252046\n",
      "Cost after iteration 1300: 0.237660\n",
      "Cost after iteration 1400: 0.225225\n",
      "Cost after iteration 1500: 0.214317\n",
      "Cost after iteration 1600: 0.204877\n",
      "Cost after iteration 1700: 0.196451\n",
      "Cost after iteration 1800: 0.188846\n",
      "Cost after iteration 1900: 0.181760\n",
      "Cost after iteration 2000: 0.175631\n",
      "Cost after iteration 2100: 0.169940\n",
      "Cost after iteration 2200: 0.164718\n",
      "Cost after iteration 2300: 0.159876\n",
      "Cost after iteration 2400: 0.155403\n",
      "Cost after iteration 2500: 0.151205\n",
      "Cost after iteration 2600: 0.147388\n",
      "Cost after iteration 2700: 0.143763\n",
      "Cost after iteration 2800: 0.140397\n",
      "Cost after iteration 2900: 0.137166\n"
     ]
    },
    {
     "name": "stderr",
     "output_type": "stream",
     "text": [
      "/Users/UnicornKing/anaconda2/lib/python2.7/site-packages/ipykernel/__main__.py:2: RuntimeWarning: overflow encountered in exp\n",
      "  from ipykernel import kernelapp as app\n"
     ]
    },
    {
     "name": "stdout",
     "output_type": "stream",
     "text": [
      "train accuracy: 96.22 %\n",
      "test accuracy: 66.27 %\n"
     ]
    },
    {
     "data": {
      "image/png": "[encoded data removed]",
      "text/plain": [
       "<matplotlib.figure.Figure at 0x11fde1e90>"
      ]
     },
     "metadata": {},
     "output_type": "display_data"
    },
    {
     "name": "stdout",
     "output_type": "stream",
     "text": [
      "single process time: 85.289 s.\n"
     ]
    }
   ],
   "source": [
    "dims = [20, 1]\n",
    "labels = [0,1,2,3,4,5,6,7,8,9]\n",
    "label_train_Y = (train_y == 2).astype(int)\n",
    "label_test_Y = (test_y == 2).astype(int)\n",
    "pured_train_X = X_train_normalized[:, 0:5000]\n",
    "pured_train_Y = label_train_Y[:, 0:5000]\n",
    "\n",
    "\n",
    "t0 = time.time()\n",
    "label_model = L_layer_model(pured_train_X, pured_train_Y, test_x, label_test_Y, dims, learning_rate=1.2, num_iterations = 3000, threads=1)\n",
    "t1 = time.time()\n",
    "print \"single process time: {:.3f} s.\".format(t1 - t0)\n",
    "\n",
    "# pured_train_X = X_train_normalized[:, 0:1000]\n",
    "# pured_train_Y = label_train_Y[:, 0:1000]\n",
    "# t0 = time.time()\n",
    "# label_model = L_layer_model(pured_train_X, pured_train_Y, test_x, label_test_Y, dims, learning_rate=1.2, num_iterations = 4000, threads=2)\n",
    "# t1 = time.time()\n",
    "# print \"2 process time: {:.3f} s.\".format(t1 - t0)\n"
   ]
  },
  {
   "cell_type": "code",
   "execution_count": 32,
   "metadata": {
    "collapsed": true
   },
   "outputs": [],
   "source": [
    "test_data[2500]['image'].show()"
   ]
  },
  {
   "cell_type": "code",
   "execution_count": 33,
   "metadata": {
    "collapsed": false
   },
   "outputs": [
    {
     "name": "stdout",
     "output_type": "stream",
     "text": [
      "prediction that the image is 2: True\n"
     ]
    }
   ],
   "source": [
    "two = X_test_normalized[:,2500:2501]\n",
    "predictions = predict(parameters=label_model,X=two)\n",
    "print \"prediction that the image is 2: \" + str(bool(predictions[0][0]))"
   ]
  },
  {
   "cell_type": "markdown",
   "metadata": {},
   "source": [
    "# Coursera Model"
   ]
  },
  {
   "cell_type": "code",
   "execution_count": 243,
   "metadata": {
    "collapsed": false
   },
   "outputs": [
    {
     "name": "stdout",
     "output_type": "stream",
     "text": [
      "[[0 0 0 1 0 0 1 0 0 0 0 0 0 0 0 0 0 0 0 0 0 0 0 0 0 0 0 0 0 0 0 0 0 0 0 0 0\n",
      "  0 0 0 1 0 1 0 0 0 0 0 0 0 0 0 1 0 1 0 0 0 0 0 0 0 1 0 0 0 0 0 0 0 0 0 0 0\n",
      "  1 0 1 0 0 0 0 0 0 0 0 0 0 0 0 0 1 0 0 0 0 0 0 1 0 0]]\n",
      "0.000578531614627\n"
     ]
    }
   ],
   "source": [
    "A = L_model_forward(parameters=label_model, X=pured_train_X)[0]\n",
    "print pured_train_Y\n",
    "print A[0][4]"
   ]
  },
  {
   "cell_type": "code",
   "execution_count": 162,
   "metadata": {
    "collapsed": false
   },
   "outputs": [
    {
     "name": "stdout",
     "output_type": "stream",
     "text": [
      "Training model for label:  0\n"
     ]
    },
    {
     "name": "stderr",
     "output_type": "stream",
     "text": [
      "Process Process-107:\n",
      "Process Process-108:\n",
      "Traceback (most recent call last):\n",
      "Traceback (most recent call last):\n",
      "  File \"/Users/UnicornKing/anaconda2/lib/python2.7/multiprocessing/process.py\", line 258, in _bootstrap\n",
      "  File \"/Users/UnicornKing/anaconda2/lib/python2.7/multiprocessing/process.py\", line 258, in _bootstrap\n",
      "    self.run()\n",
      "    self.run()\n",
      "  File \"/Users/UnicornKing/anaconda2/lib/python2.7/multiprocessing/process.py\", line 114, in run\n",
      "  File \"/Users/UnicornKing/anaconda2/lib/python2.7/multiprocessing/process.py\", line 114, in run\n",
      "    self._target(*self._args, **self._kwargs)\n",
      "    self._target(*self._args, **self._kwargs)\n",
      "  File \"<ipython-input-161-216766003a13>\", line 63, in mp_optimize\n",
      "  File \"<ipython-input-161-216766003a13>\", line 63, in mp_optimize\n",
      "    w = np.frombuffer(w)\n",
      "    w = np.frombuffer(w)\n",
      "AttributeError: 'list' object has no attribute '__buffer__'\n",
      "AttributeError: 'list' object has no attribute '__buffer__'\n"
     ]
    },
    {
     "name": "stdout",
     "output_type": "stream",
     "text": [
      "train accuracy: 90.1170540698 %\n",
      "test accuracy: 90.2 %\n",
      "Training model for label:  1\n"
     ]
    },
    {
     "name": "stderr",
     "output_type": "stream",
     "text": [
      "Process Process-109:\n",
      "Process Process-110:\n",
      "Traceback (most recent call last):\n",
      "Traceback (most recent call last):\n",
      "  File \"/Users/UnicornKing/anaconda2/lib/python2.7/multiprocessing/process.py\", line 258, in _bootstrap\n",
      "  File \"/Users/UnicornKing/anaconda2/lib/python2.7/multiprocessing/process.py\", line 258, in _bootstrap\n",
      "    self.run()\n",
      "    self.run()\n",
      "  File \"/Users/UnicornKing/anaconda2/lib/python2.7/multiprocessing/process.py\", line 114, in run\n",
      "    self._target(*self._args, **self._kwargs)\n",
      "  File \"/Users/UnicornKing/anaconda2/lib/python2.7/multiprocessing/process.py\", line 114, in run\n",
      "  File \"<ipython-input-161-216766003a13>\", line 63, in mp_optimize\n",
      "    self._target(*self._args, **self._kwargs)\n",
      "    w = np.frombuffer(w)\n",
      "  File \"<ipython-input-161-216766003a13>\", line 63, in mp_optimize\n",
      "AttributeError: 'list' object has no attribute '__buffer__'\n",
      "    w = np.frombuffer(w)\n",
      "AttributeError: 'list' object has no attribute '__buffer__'\n"
     ]
    },
    {
     "name": "stdout",
     "output_type": "stream",
     "text": [
      "train accuracy: 88.5986836624 %\n",
      "test accuracy: 88.65 %\n",
      "Training model for label:  2\n"
     ]
    },
    {
     "name": "stderr",
     "output_type": "stream",
     "text": [
      "Process Process-111:\n",
      "Traceback (most recent call last):\n",
      "Process Process-112:\n",
      "Traceback (most recent call last):\n",
      "  File \"/Users/UnicornKing/anaconda2/lib/python2.7/multiprocessing/process.py\", line 258, in _bootstrap\n",
      "  File \"/Users/UnicornKing/anaconda2/lib/python2.7/multiprocessing/process.py\", line 258, in _bootstrap\n",
      "    self.run()\n",
      "    self.run()\n",
      "  File \"/Users/UnicornKing/anaconda2/lib/python2.7/multiprocessing/process.py\", line 114, in run\n",
      "  File \"/Users/UnicornKing/anaconda2/lib/python2.7/multiprocessing/process.py\", line 114, in run\n",
      "    self._target(*self._args, **self._kwargs)\n",
      "    self._target(*self._args, **self._kwargs)\n",
      "  File \"<ipython-input-161-216766003a13>\", line 63, in mp_optimize\n",
      "  File \"<ipython-input-161-216766003a13>\", line 63, in mp_optimize\n",
      "    w = np.frombuffer(w)\n",
      "    w = np.frombuffer(w)\n",
      "AttributeError: 'list' object has no attribute '__buffer__'\n",
      "AttributeError: 'list' object has no attribute '__buffer__'\n"
     ]
    },
    {
     "name": "stdout",
     "output_type": "stream",
     "text": [
      "train accuracy: 90.1212196951 %\n",
      "test accuracy: 89.68 %\n",
      "Training model for label:  3\n"
     ]
    },
    {
     "name": "stderr",
     "output_type": "stream",
     "text": [
      "Process Process-113:\n",
      "Traceback (most recent call last):\n",
      "Process Process-114:\n",
      "  File \"/Users/UnicornKing/anaconda2/lib/python2.7/multiprocessing/process.py\", line 258, in _bootstrap\n",
      "Traceback (most recent call last):\n",
      "    self.run()\n",
      "  File \"/Users/UnicornKing/anaconda2/lib/python2.7/multiprocessing/process.py\", line 258, in _bootstrap\n",
      "  File \"/Users/UnicornKing/anaconda2/lib/python2.7/multiprocessing/process.py\", line 114, in run\n",
      "    self.run()\n",
      "    self._target(*self._args, **self._kwargs)\n",
      "  File \"<ipython-input-161-216766003a13>\", line 63, in mp_optimize\n",
      "  File \"/Users/UnicornKing/anaconda2/lib/python2.7/multiprocessing/process.py\", line 114, in run\n",
      "    self._target(*self._args, **self._kwargs)\n",
      "    w = np.frombuffer(w)\n",
      "AttributeError: 'list' object has no attribute '__buffer__'\n",
      "  File \"<ipython-input-161-216766003a13>\", line 63, in mp_optimize\n",
      "    w = np.frombuffer(w)\n",
      "AttributeError: 'list' object has no attribute '__buffer__'\n"
     ]
    },
    {
     "name": "stdout",
     "output_type": "stream",
     "text": [
      "train accuracy: 89.896275931 %\n",
      "test accuracy: 89.9 %\n",
      "Training model for label:  4\n"
     ]
    },
    {
     "name": "stderr",
     "output_type": "stream",
     "text": [
      "Process Process-115:\n",
      "Process Process-116:\n",
      "Traceback (most recent call last):\n",
      "Traceback (most recent call last):\n",
      "  File \"/Users/UnicornKing/anaconda2/lib/python2.7/multiprocessing/process.py\", line 258, in _bootstrap\n",
      "  File \"/Users/UnicornKing/anaconda2/lib/python2.7/multiprocessing/process.py\", line 258, in _bootstrap\n",
      "    self.run()\n",
      "    self.run()\n",
      "  File \"/Users/UnicornKing/anaconda2/lib/python2.7/multiprocessing/process.py\", line 114, in run\n",
      "    self._target(*self._args, **self._kwargs)\n",
      "  File \"/Users/UnicornKing/anaconda2/lib/python2.7/multiprocessing/process.py\", line 114, in run\n",
      "  File \"<ipython-input-161-216766003a13>\", line 63, in mp_optimize\n",
      "    self._target(*self._args, **self._kwargs)\n",
      "    w = np.frombuffer(w)\n",
      "  File \"<ipython-input-161-216766003a13>\", line 63, in mp_optimize\n",
      "AttributeError: 'list' object has no attribute '__buffer__'\n",
      "    w = np.frombuffer(w)\n",
      "AttributeError: 'list' object has no attribute '__buffer__'\n"
     ]
    },
    {
     "name": "stdout",
     "output_type": "stream",
     "text": [
      "train accuracy: 90.2357743897 %\n",
      "test accuracy: 90.18 %\n",
      "Training model for label:  5\n"
     ]
    },
    {
     "name": "stderr",
     "output_type": "stream",
     "text": [
      "Process Process-117:\n",
      "Process Process-118:\n",
      "Traceback (most recent call last):\n",
      "  File \"/Users/UnicornKing/anaconda2/lib/python2.7/multiprocessing/process.py\", line 258, in _bootstrap\n",
      "Traceback (most recent call last):\n",
      "    self.run()\n",
      "  File \"/Users/UnicornKing/anaconda2/lib/python2.7/multiprocessing/process.py\", line 258, in _bootstrap\n",
      "    self.run()\n",
      "  File \"/Users/UnicornKing/anaconda2/lib/python2.7/multiprocessing/process.py\", line 114, in run\n",
      "  File \"/Users/UnicornKing/anaconda2/lib/python2.7/multiprocessing/process.py\", line 114, in run\n",
      "    self._target(*self._args, **self._kwargs)\n",
      "    self._target(*self._args, **self._kwargs)\n",
      "  File \"<ipython-input-161-216766003a13>\", line 63, in mp_optimize\n",
      "  File \"<ipython-input-161-216766003a13>\", line 63, in mp_optimize\n",
      "    w = np.frombuffer(w)\n",
      "    w = np.frombuffer(w)\n",
      "AttributeError: 'list' object has no attribute '__buffer__'\n",
      "AttributeError: 'list' object has no attribute '__buffer__'\n"
     ]
    },
    {
     "name": "stdout",
     "output_type": "stream",
     "text": [
      "train accuracy: 90.8814463051 %\n",
      "test accuracy: 91.08 %\n",
      "Training model for label:  6\n"
     ]
    },
    {
     "name": "stderr",
     "output_type": "stream",
     "text": [
      "Process Process-119:\n",
      "Traceback (most recent call last):\n",
      "Process Process-120:\n",
      "  File \"/Users/UnicornKing/anaconda2/lib/python2.7/multiprocessing/process.py\", line 258, in _bootstrap\n",
      "Traceback (most recent call last):\n",
      "  File \"/Users/UnicornKing/anaconda2/lib/python2.7/multiprocessing/process.py\", line 258, in _bootstrap\n",
      "    self.run()\n",
      "  File \"/Users/UnicornKing/anaconda2/lib/python2.7/multiprocessing/process.py\", line 114, in run\n",
      "    self.run()\n",
      "  File \"/Users/UnicornKing/anaconda2/lib/python2.7/multiprocessing/process.py\", line 114, in run\n",
      "    self._target(*self._args, **self._kwargs)\n",
      "    self._target(*self._args, **self._kwargs)\n",
      "  File \"<ipython-input-161-216766003a13>\", line 63, in mp_optimize\n",
      "    w = np.frombuffer(w)\n",
      "  File \"<ipython-input-161-216766003a13>\", line 63, in mp_optimize\n",
      "AttributeError: 'list' object has no attribute '__buffer__'\n",
      "    w = np.frombuffer(w)\n",
      "AttributeError: 'list' object has no attribute '__buffer__'\n"
     ]
    },
    {
     "name": "stdout",
     "output_type": "stream",
     "text": [
      "train accuracy: 90.2607681413 %\n",
      "test accuracy: 90.42 %\n",
      "Training model for label:  7\n"
     ]
    },
    {
     "name": "stderr",
     "output_type": "stream",
     "text": [
      "Process Process-121:\n",
      "Process Process-122:\n",
      "Traceback (most recent call last):\n",
      "Traceback (most recent call last):\n",
      "  File \"/Users/UnicornKing/anaconda2/lib/python2.7/multiprocessing/process.py\", line 258, in _bootstrap\n",
      "  File \"/Users/UnicornKing/anaconda2/lib/python2.7/multiprocessing/process.py\", line 258, in _bootstrap\n",
      "    self.run()\n",
      "    self.run()\n",
      "  File \"/Users/UnicornKing/anaconda2/lib/python2.7/multiprocessing/process.py\", line 114, in run\n",
      "    self._target(*self._args, **self._kwargs)\n",
      "  File \"/Users/UnicornKing/anaconda2/lib/python2.7/multiprocessing/process.py\", line 114, in run\n",
      "  File \"<ipython-input-161-216766003a13>\", line 63, in mp_optimize\n",
      "    self._target(*self._args, **self._kwargs)\n",
      "    w = np.frombuffer(w)\n",
      "  File \"<ipython-input-161-216766003a13>\", line 63, in mp_optimize\n",
      "AttributeError: 'list' object has no attribute '__buffer__'\n",
      "    w = np.frombuffer(w)\n",
      "AttributeError: 'list' object has no attribute '__buffer__'\n"
     ]
    },
    {
     "name": "stdout",
     "output_type": "stream",
     "text": [
      "train accuracy: 89.6192618512 %\n",
      "test accuracy: 89.72 %\n",
      "Training model for label:  8\n"
     ]
    },
    {
     "name": "stderr",
     "output_type": "stream",
     "text": [
      "Process Process-123:\n",
      "Traceback (most recent call last):\n",
      "Process Process-124:\n",
      "  File \"/Users/UnicornKing/anaconda2/lib/python2.7/multiprocessing/process.py\", line 258, in _bootstrap\n",
      "Traceback (most recent call last):\n",
      "    self.run()\n",
      "  File \"/Users/UnicornKing/anaconda2/lib/python2.7/multiprocessing/process.py\", line 258, in _bootstrap\n",
      "  File \"/Users/UnicornKing/anaconda2/lib/python2.7/multiprocessing/process.py\", line 114, in run\n",
      "    self.run()\n",
      "    self._target(*self._args, **self._kwargs)\n",
      "  File \"/Users/UnicornKing/anaconda2/lib/python2.7/multiprocessing/process.py\", line 114, in run\n",
      "  File \"<ipython-input-161-216766003a13>\", line 63, in mp_optimize\n",
      "    self._target(*self._args, **self._kwargs)\n",
      "    w = np.frombuffer(w)\n",
      "  File \"<ipython-input-161-216766003a13>\", line 63, in mp_optimize\n",
      "AttributeError: 'list' object has no attribute '__buffer__'\n",
      "    w = np.frombuffer(w)\n",
      "AttributeError: 'list' object has no attribute '__buffer__'\n"
     ]
    },
    {
     "name": "stdout",
     "output_type": "stream",
     "text": [
      "train accuracy: 90.2711822044 %\n",
      "test accuracy: 90.26 %\n",
      "Training model for label:  9\n"
     ]
    },
    {
     "name": "stderr",
     "output_type": "stream",
     "text": [
      "Process Process-125:\n",
      "Traceback (most recent call last):\n",
      "Process Process-126:\n",
      "  File \"/Users/UnicornKing/anaconda2/lib/python2.7/multiprocessing/process.py\", line 258, in _bootstrap\n",
      "Traceback (most recent call last):\n",
      "  File \"/Users/UnicornKing/anaconda2/lib/python2.7/multiprocessing/process.py\", line 258, in _bootstrap\n",
      "    self.run()\n",
      "    self.run()\n",
      "  File \"/Users/UnicornKing/anaconda2/lib/python2.7/multiprocessing/process.py\", line 114, in run\n",
      "  File \"/Users/UnicornKing/anaconda2/lib/python2.7/multiprocessing/process.py\", line 114, in run\n",
      "    self._target(*self._args, **self._kwargs)\n",
      "    self._target(*self._args, **self._kwargs)\n",
      "  File \"<ipython-input-161-216766003a13>\", line 63, in mp_optimize\n",
      "  File \"<ipython-input-161-216766003a13>\", line 63, in mp_optimize\n",
      "    w = np.frombuffer(w)\n",
      "    w = np.frombuffer(w)\n",
      "AttributeError: 'list' object has no attribute '__buffer__'\n",
      "AttributeError: 'list' object has no attribute '__buffer__'\n"
     ]
    },
    {
     "name": "stdout",
     "output_type": "stream",
     "text": [
      "train accuracy: 89.9983337499 %\n",
      "test accuracy: 89.91 %\n",
      "multiple process time: 3.229 s.\n"
     ]
    }
   ],
   "source": [
    "import time\n",
    "t0 = time.time()\n",
    "mp_mc_model = mp_multiclass_model(X_train_normalized, train_y, X_test_normalized, test_y, labels, num_iterations = 500, \n",
    "                               learning_rate = 0.5, print_cost = True)\n",
    "t1 = time.time()\n",
    "print \"multiple process time: {:.3f} s.\".format(t1 - t0)"
   ]
  },
  {
   "cell_type": "code",
   "execution_count": 183,
   "metadata": {
    "collapsed": false
   },
   "outputs": [
    {
     "name": "stdout",
     "output_type": "stream",
     "text": [
      "Training model for label:  0\n",
      "Cost after iteration 0: 0.693147\n",
      "Cost after iteration 100: 0.383120\n",
      "Cost after iteration 200: 0.338575\n",
      "Cost after iteration 300: 0.327722\n",
      "Cost after iteration 400: 0.324372\n",
      "Cost after iteration 500: 0.323208\n",
      "Cost after iteration 600: 0.322777\n",
      "Cost after iteration 700: 0.322612\n",
      "Cost after iteration 800: 0.322546\n",
      "Cost after iteration 900: 0.322520\n",
      "Cost after iteration 1000: 0.322510\n",
      "Cost after iteration 1100: 0.322505\n",
      "Cost after iteration 1200: 0.322503\n",
      "Cost after iteration 1300: 0.322503\n",
      "Cost after iteration 1400: 0.322502\n",
      "Cost after iteration 1500: 0.322502\n",
      "Cost after iteration 1600: 0.322502\n",
      "Cost after iteration 1700: 0.322502\n",
      "Cost after iteration 1800: 0.322502\n",
      "Cost after iteration 1900: 0.322501\n",
      "train accuracy: 90.1170540698 %\n",
      "test accuracy: 90.2 %\n",
      "Training model for label:  1\n",
      "Cost after iteration 0: 0.693147\n",
      "Cost after iteration 100: 0.407109\n",
      "Cost after iteration 200: 0.367586\n",
      "Cost after iteration 300: 0.358601\n",
      "Cost after iteration 400: 0.356048\n",
      "Cost after iteration 500: 0.355240\n",
      "Cost after iteration 600: 0.354969\n",
      "Cost after iteration 700: 0.354876\n",
      "Cost after iteration 800: 0.354842\n",
      "Cost after iteration 900: 0.354830\n",
      "Cost after iteration 1000: 0.354826\n",
      "Cost after iteration 1100: 0.354824\n",
      "Cost after iteration 1200: 0.354824\n",
      "Cost after iteration 1300: 0.354823\n",
      "Cost after iteration 1400: 0.354823\n",
      "Cost after iteration 1500: 0.354823\n",
      "Cost after iteration 1600: 0.354823\n",
      "Cost after iteration 1700: 0.354823\n",
      "Cost after iteration 1800: 0.354823\n"
     ]
    },
    {
     "ename": "KeyboardInterrupt",
     "evalue": "",
     "output_type": "error",
     "traceback": [
      "\u001b[0;31m---------------------------------------------------------------------------\u001b[0m",
      "\u001b[0;31mKeyboardInterrupt\u001b[0m                         Traceback (most recent call last)",
      "\u001b[0;32m<ipython-input-183-2f755cc363bd>\u001b[0m in \u001b[0;36m<module>\u001b[0;34m()\u001b[0m\n\u001b[1;32m      1\u001b[0m \u001b[0mt0\u001b[0m \u001b[0;34m=\u001b[0m \u001b[0mtime\u001b[0m\u001b[0;34m.\u001b[0m\u001b[0mtime\u001b[0m\u001b[0;34m(\u001b[0m\u001b[0;34m)\u001b[0m\u001b[0;34m\u001b[0m\u001b[0m\n\u001b[1;32m      2\u001b[0m mc_model = multiclass_model(X_train_normalized, train_y, X_test_normalized, test_y, labels, num_iterations = 2000, \n\u001b[0;32m----> 3\u001b[0;31m                             learning_rate = 0.05, print_cost = True)\n\u001b[0m\u001b[1;32m      4\u001b[0m \u001b[0mt1\u001b[0m \u001b[0;34m=\u001b[0m \u001b[0mtime\u001b[0m\u001b[0;34m.\u001b[0m\u001b[0mtime\u001b[0m\u001b[0;34m(\u001b[0m\u001b[0;34m)\u001b[0m\u001b[0;34m\u001b[0m\u001b[0m\n\u001b[1;32m      5\u001b[0m \u001b[0;32mprint\u001b[0m \u001b[0;34m\"single process time: {:.3f} s.\"\u001b[0m\u001b[0;34m.\u001b[0m\u001b[0mformat\u001b[0m\u001b[0;34m(\u001b[0m\u001b[0mt1\u001b[0m \u001b[0;34m-\u001b[0m \u001b[0mt0\u001b[0m\u001b[0;34m)\u001b[0m\u001b[0;34m\u001b[0m\u001b[0m\n",
      "\u001b[0;32m<ipython-input-169-216766003a13>\u001b[0m in \u001b[0;36mmulticlass_model\u001b[0;34m(X_train, Y_train, X_test, Y_test, labels, num_iterations, learning_rate, print_cost)\u001b[0m\n\u001b[1;32m    191\u001b[0m         \u001b[0;32mprint\u001b[0m \u001b[0;34m\"Training model for label: \"\u001b[0m\u001b[0;34m,\u001b[0m \u001b[0mlabel\u001b[0m\u001b[0;34m\u001b[0m\u001b[0m\n\u001b[1;32m    192\u001b[0m         label_model = model(X_train, label_Y_train, X_test, label_Y_test, num_iterations = num_iterations, \n\u001b[0;32m--> 193\u001b[0;31m                             learning_rate = learning_rate, print_cost = print_cost)\n\u001b[0m\u001b[1;32m    194\u001b[0m         \u001b[0mmc_model\u001b[0m\u001b[0;34m[\u001b[0m\u001b[0mlabel\u001b[0m\u001b[0;34m]\u001b[0m \u001b[0;34m=\u001b[0m \u001b[0mlabel_model\u001b[0m\u001b[0;34m\u001b[0m\u001b[0m\n\u001b[1;32m    195\u001b[0m     \u001b[0;32mreturn\u001b[0m \u001b[0mmc_model\u001b[0m\u001b[0;34m\u001b[0m\u001b[0m\n",
      "\u001b[0;32m<ipython-input-169-216766003a13>\u001b[0m in \u001b[0;36mmodel\u001b[0;34m(X_train, Y_train, X_test, Y_test, num_iterations, learning_rate, print_cost)\u001b[0m\n\u001b[1;32m    110\u001b[0m     \u001b[0;31m# Gradient descent\u001b[0m\u001b[0;34m\u001b[0m\u001b[0;34m\u001b[0m\u001b[0m\n\u001b[1;32m    111\u001b[0m     parameters, grads, costs = optimize(w=w,b=b,X=X_train,Y=Y_train,num_iterations=num_iterations, \n\u001b[0;32m--> 112\u001b[0;31m                                         learning_rate=learning_rate, print_cost=print_cost)\n\u001b[0m\u001b[1;32m    113\u001b[0m \u001b[0;34m\u001b[0m\u001b[0m\n\u001b[1;32m    114\u001b[0m     \u001b[0;31m# Retrieve parameters w and b from dictionary \"parameters\"\u001b[0m\u001b[0;34m\u001b[0m\u001b[0;34m\u001b[0m\u001b[0m\n",
      "\u001b[0;32m<ipython-input-169-216766003a13>\u001b[0m in \u001b[0;36moptimize\u001b[0;34m(w, b, X, Y, num_iterations, learning_rate, threshold, print_cost)\u001b[0m\n\u001b[1;32m     32\u001b[0m     \u001b[0;32mfor\u001b[0m \u001b[0mi\u001b[0m \u001b[0;32min\u001b[0m \u001b[0mrange\u001b[0m\u001b[0;34m(\u001b[0m\u001b[0mnum_iterations\u001b[0m\u001b[0;34m)\u001b[0m\u001b[0;34m:\u001b[0m\u001b[0;34m\u001b[0m\u001b[0m\n\u001b[1;32m     33\u001b[0m \u001b[0;34m\u001b[0m\u001b[0m\n\u001b[0;32m---> 34\u001b[0;31m         \u001b[0mgrads\u001b[0m\u001b[0;34m,\u001b[0m \u001b[0mcost\u001b[0m \u001b[0;34m=\u001b[0m \u001b[0mpropagate\u001b[0m\u001b[0;34m(\u001b[0m\u001b[0mw\u001b[0m\u001b[0;34m=\u001b[0m\u001b[0mw\u001b[0m\u001b[0;34m,\u001b[0m\u001b[0mb\u001b[0m\u001b[0;34m=\u001b[0m\u001b[0mb\u001b[0m\u001b[0;34m,\u001b[0m\u001b[0mX\u001b[0m\u001b[0;34m=\u001b[0m\u001b[0mX\u001b[0m\u001b[0;34m,\u001b[0m\u001b[0mY\u001b[0m\u001b[0;34m=\u001b[0m\u001b[0mY\u001b[0m\u001b[0;34m)\u001b[0m\u001b[0;34m\u001b[0m\u001b[0m\n\u001b[0m\u001b[1;32m     35\u001b[0m \u001b[0;34m\u001b[0m\u001b[0m\n\u001b[1;32m     36\u001b[0m         \u001b[0;31m# Retrieve derivatives from gradsΩ\u001b[0m\u001b[0;34m\u001b[0m\u001b[0;34m\u001b[0m\u001b[0m\n",
      "\u001b[0;32m<ipython-input-169-216766003a13>\u001b[0m in \u001b[0;36mpropagate\u001b[0;34m(w, b, X, Y)\u001b[0m\n\u001b[1;32m      9\u001b[0m     \u001b[0mm\u001b[0m \u001b[0;34m=\u001b[0m \u001b[0mX\u001b[0m\u001b[0;34m.\u001b[0m\u001b[0mshape\u001b[0m\u001b[0;34m[\u001b[0m\u001b[0;36m1\u001b[0m\u001b[0;34m]\u001b[0m\u001b[0;34m\u001b[0m\u001b[0m\n\u001b[1;32m     10\u001b[0m     \u001b[0mA\u001b[0m \u001b[0;34m=\u001b[0m \u001b[0msigmoid\u001b[0m\u001b[0;34m(\u001b[0m\u001b[0mnp\u001b[0m\u001b[0;34m.\u001b[0m\u001b[0mdot\u001b[0m\u001b[0;34m(\u001b[0m\u001b[0mw\u001b[0m\u001b[0;34m.\u001b[0m\u001b[0mT\u001b[0m\u001b[0;34m,\u001b[0m\u001b[0mX\u001b[0m\u001b[0;34m)\u001b[0m\u001b[0;34m+\u001b[0m\u001b[0mb\u001b[0m\u001b[0;34m)\u001b[0m\u001b[0;34m\u001b[0m\u001b[0m\n\u001b[0;32m---> 11\u001b[0;31m     \u001b[0mcost\u001b[0m \u001b[0;34m=\u001b[0m \u001b[0;34m-\u001b[0m\u001b[0;34m(\u001b[0m\u001b[0mnp\u001b[0m\u001b[0;34m.\u001b[0m\u001b[0mdot\u001b[0m\u001b[0;34m(\u001b[0m\u001b[0mY\u001b[0m\u001b[0;34m,\u001b[0m\u001b[0mnp\u001b[0m\u001b[0;34m.\u001b[0m\u001b[0mlog\u001b[0m\u001b[0;34m(\u001b[0m\u001b[0mA\u001b[0m\u001b[0;34m)\u001b[0m\u001b[0;34m.\u001b[0m\u001b[0mT\u001b[0m\u001b[0;34m)\u001b[0m \u001b[0;34m+\u001b[0m \u001b[0mnp\u001b[0m\u001b[0;34m.\u001b[0m\u001b[0mdot\u001b[0m\u001b[0;34m(\u001b[0m\u001b[0;34m(\u001b[0m\u001b[0;36m1\u001b[0m\u001b[0;34m-\u001b[0m\u001b[0mY\u001b[0m\u001b[0;34m)\u001b[0m\u001b[0;34m,\u001b[0m\u001b[0mnp\u001b[0m\u001b[0;34m.\u001b[0m\u001b[0mlog\u001b[0m\u001b[0;34m(\u001b[0m\u001b[0;36m1\u001b[0m\u001b[0;34m-\u001b[0m\u001b[0mA\u001b[0m\u001b[0;34m)\u001b[0m\u001b[0;34m.\u001b[0m\u001b[0mT\u001b[0m\u001b[0;34m)\u001b[0m\u001b[0;34m)\u001b[0m\u001b[0;34m/\u001b[0m\u001b[0mm\u001b[0m\u001b[0;34m\u001b[0m\u001b[0m\n\u001b[0m\u001b[1;32m     12\u001b[0m     \u001b[0;31m# BACKWARD PROPAGATION (TO FIND GRAD)\u001b[0m\u001b[0;34m\u001b[0m\u001b[0;34m\u001b[0m\u001b[0m\n\u001b[1;32m     13\u001b[0m \u001b[0;34m\u001b[0m\u001b[0m\n",
      "\u001b[0;31mKeyboardInterrupt\u001b[0m: "
     ]
    }
   ],
   "source": [
    "t0 = time.time()\n",
    "mc_model = multiclass_model(X_train_normalized, train_y, X_test_normalized, test_y, labels, num_iterations = 2000, \n",
    "                            learning_rate = 0.05, print_cost = True)\n",
    "t1 = time.time()\n",
    "print \"single process time: {:.3f} s.\".format(t1 - t0)"
   ]
  },
  {
   "cell_type": "code",
   "execution_count": null,
   "metadata": {
    "collapsed": false
   },
   "outputs": [
    {
     "name": "stderr",
     "output_type": "stream",
     "text": [
      "Process PoolWorker-7:\n",
      "Process PoolWorker-6:\n",
      "Process PoolWorker-9:\n",
      "Process PoolWorker-8:\n",
      "Traceback (most recent call last):\n",
      "Traceback (most recent call last):\n",
      "Traceback (most recent call last):\n",
      "  File \"/Users/UnicornKing/anaconda2/lib/python2.7/multiprocessing/process.py\", line 258, in _bootstrap\n",
      "Traceback (most recent call last):\n",
      "  File \"/Users/UnicornKing/anaconda2/lib/python2.7/multiprocessing/process.py\", line 258, in _bootstrap\n",
      "  File \"/Users/UnicornKing/anaconda2/lib/python2.7/multiprocessing/process.py\", line 258, in _bootstrap\n",
      "  File \"/Users/UnicornKing/anaconda2/lib/python2.7/multiprocessing/process.py\", line 258, in _bootstrap\n",
      "    self.run()\n",
      "    self.run()\n",
      "    self.run()\n",
      "  File \"/Users/UnicornKing/anaconda2/lib/python2.7/multiprocessing/process.py\", line 114, in run\n",
      "    self.run()\n",
      "  File \"/Users/UnicornKing/anaconda2/lib/python2.7/multiprocessing/process.py\", line 114, in run\n",
      "  File \"/Users/UnicornKing/anaconda2/lib/python2.7/multiprocessing/process.py\", line 114, in run\n",
      "    self._target(*self._args, **self._kwargs)\n",
      "  File \"/Users/UnicornKing/anaconda2/lib/python2.7/multiprocessing/process.py\", line 114, in run\n",
      "    self._target(*self._args, **self._kwargs)\n",
      "    self._target(*self._args, **self._kwargs)\n",
      "  File \"/Users/UnicornKing/anaconda2/lib/python2.7/multiprocessing/pool.py\", line 102, in worker\n",
      "    self._target(*self._args, **self._kwargs)\n",
      "  File \"/Users/UnicornKing/anaconda2/lib/python2.7/multiprocessing/pool.py\", line 102, in worker\n",
      "    task = get()\n",
      "  File \"/Users/UnicornKing/anaconda2/lib/python2.7/multiprocessing/pool.py\", line 102, in worker\n",
      "  File \"/Users/UnicornKing/anaconda2/lib/python2.7/multiprocessing/pool.py\", line 102, in worker\n",
      "    task = get()\n",
      "  File \"/Users/UnicornKing/anaconda2/lib/python2.7/multiprocessing/queues.py\", line 376, in get\n",
      "    task = get()\n",
      "  File \"/Users/UnicornKing/anaconda2/lib/python2.7/multiprocessing/queues.py\", line 378, in get\n",
      "    task = get()\n",
      "    racquire()\n",
      "  File \"/Users/UnicornKing/anaconda2/lib/python2.7/multiprocessing/queues.py\", line 376, in get\n",
      "  File \"/Users/UnicornKing/anaconda2/lib/python2.7/multiprocessing/queues.py\", line 376, in get\n",
      "    return recv()\n",
      "    racquire()\n",
      "KeyboardInterrupt\n",
      "    racquire()\n",
      "KeyboardInterrupt\n",
      "KeyboardInterrupt\n",
      "KeyboardInterrupt\n"
     ]
    }
   ],
   "source": [
    "params = initialize_parameters(layers_dims=[X_train_normalized.shape[0], 1])\n",
    "\n",
    "W = params[0]['W']\n",
    "b = params[0]['b']\n",
    "\n",
    "a = np.random.randn(400,400)\n",
    "b = np.random.randn(400,400)\n",
    "c = np.random.randn(400,400)\n",
    "d = np.random.randn(4,4)\n",
    "\n",
    "p = mp.Pool()\n",
    "\n",
    "results = p.map(lin_fwd,[(a,b,c)])\n",
    "p.close()\n",
    "p.join()\n",
    "print(results)"
   ]
  },
  {
   "cell_type": "code",
   "execution_count": null,
   "metadata": {
    "collapsed": true
   },
   "outputs": [],
   "source": []
  }
 ],
 "metadata": {
  "kernelspec": {
   "display_name": "Python 2",
   "language": "python",
   "name": "python2"
  },
  "language_info": {
   "codemirror_mode": {
    "name": "ipython",
    "version": 2
   },
   "file_extension": ".py",
   "mimetype": "text/x-python",
   "name": "python",
   "nbconvert_exporter": "python",
   "pygments_lexer": "ipython2",
   "version": "2.7.13"
  }
 },
 "nbformat": 4,
 "nbformat_minor": 2
}
